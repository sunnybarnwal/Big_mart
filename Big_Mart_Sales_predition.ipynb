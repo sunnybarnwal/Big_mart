{
  "nbformat": 4,
  "nbformat_minor": 0,
  "metadata": {
    "colab": {
      "name": "Big_Mart_Sales_predition.ipynb",
      "version": "0.3.2",
      "provenance": [],
      "include_colab_link": true
    },
    "kernelspec": {
      "name": "python3",
      "display_name": "Python 3"
    }
  },
  "cells": [
    {
      "cell_type": "markdown",
      "metadata": {
        "id": "view-in-github",
        "colab_type": "text"
      },
      "source": [
        "[View in Colaboratory](https://colab.research.google.com/github/sunnybarnwal/Big_mart/blob/master/Big_Mart_Sales_predition.ipynb)"
      ]
    },
    {
      "metadata": {
        "id": "_-U44RovDwuV",
        "colab_type": "code",
        "colab": {}
      },
      "cell_type": "code",
      "source": [
        "import pandas as pd\n",
        "import numpy as np\n",
        "import matplotlib.pyplot as plt\n",
        "import seaborn as sns\n",
        "%matplotlib inline"
      ],
      "execution_count": 0,
      "outputs": []
    },
    {
      "metadata": {
        "id": "FluwvWKiG1US",
        "colab_type": "code",
        "colab": {}
      },
      "cell_type": "code",
      "source": [
        "df=pd.read_csv('https://raw.githubusercontent.com/sunnybarnwal/Big_mart/master/Big_mart.csv')"
      ],
      "execution_count": 0,
      "outputs": []
    },
    {
      "metadata": {
        "id": "CNpispEaG77s",
        "colab_type": "code",
        "colab": {
          "base_uri": "https://localhost:8080/",
          "height": 309
        },
        "outputId": "195d4ca2-3c71-48bd-e266-7cb83dc36ee8"
      },
      "cell_type": "code",
      "source": [
        "df.head()"
      ],
      "execution_count": 80,
      "outputs": [
        {
          "output_type": "execute_result",
          "data": {
            "text/html": [
              "<div>\n",
              "<style scoped>\n",
              "    .dataframe tbody tr th:only-of-type {\n",
              "        vertical-align: middle;\n",
              "    }\n",
              "\n",
              "    .dataframe tbody tr th {\n",
              "        vertical-align: top;\n",
              "    }\n",
              "\n",
              "    .dataframe thead th {\n",
              "        text-align: right;\n",
              "    }\n",
              "</style>\n",
              "<table border=\"1\" class=\"dataframe\">\n",
              "  <thead>\n",
              "    <tr style=\"text-align: right;\">\n",
              "      <th></th>\n",
              "      <th>Item_Identifier</th>\n",
              "      <th>Item_Weight</th>\n",
              "      <th>Item_Fat_Content</th>\n",
              "      <th>Item_Visibility</th>\n",
              "      <th>Item_Type</th>\n",
              "      <th>Item_MRP</th>\n",
              "      <th>Outlet_Identifier</th>\n",
              "      <th>Outlet_Establishment_Year</th>\n",
              "      <th>Outlet_Size</th>\n",
              "      <th>Outlet_Location_Type</th>\n",
              "      <th>Outlet_Type</th>\n",
              "      <th>Item_Outlet_Sales</th>\n",
              "    </tr>\n",
              "  </thead>\n",
              "  <tbody>\n",
              "    <tr>\n",
              "      <th>0</th>\n",
              "      <td>FDA15</td>\n",
              "      <td>9.30</td>\n",
              "      <td>Low Fat</td>\n",
              "      <td>0.016047</td>\n",
              "      <td>Dairy</td>\n",
              "      <td>249.8092</td>\n",
              "      <td>OUT049</td>\n",
              "      <td>1999</td>\n",
              "      <td>Medium</td>\n",
              "      <td>Tier 1</td>\n",
              "      <td>Supermarket Type1</td>\n",
              "      <td>3735.1380</td>\n",
              "    </tr>\n",
              "    <tr>\n",
              "      <th>1</th>\n",
              "      <td>DRC01</td>\n",
              "      <td>5.92</td>\n",
              "      <td>Regular</td>\n",
              "      <td>0.019278</td>\n",
              "      <td>Soft Drinks</td>\n",
              "      <td>48.2692</td>\n",
              "      <td>OUT018</td>\n",
              "      <td>2009</td>\n",
              "      <td>Medium</td>\n",
              "      <td>Tier 3</td>\n",
              "      <td>Supermarket Type2</td>\n",
              "      <td>443.4228</td>\n",
              "    </tr>\n",
              "    <tr>\n",
              "      <th>2</th>\n",
              "      <td>FDN15</td>\n",
              "      <td>17.50</td>\n",
              "      <td>Low Fat</td>\n",
              "      <td>0.016760</td>\n",
              "      <td>Meat</td>\n",
              "      <td>141.6180</td>\n",
              "      <td>OUT049</td>\n",
              "      <td>1999</td>\n",
              "      <td>Medium</td>\n",
              "      <td>Tier 1</td>\n",
              "      <td>Supermarket Type1</td>\n",
              "      <td>2097.2700</td>\n",
              "    </tr>\n",
              "    <tr>\n",
              "      <th>3</th>\n",
              "      <td>FDX07</td>\n",
              "      <td>19.20</td>\n",
              "      <td>Regular</td>\n",
              "      <td>0.000000</td>\n",
              "      <td>Fruits and Vegetables</td>\n",
              "      <td>182.0950</td>\n",
              "      <td>OUT010</td>\n",
              "      <td>1998</td>\n",
              "      <td>NaN</td>\n",
              "      <td>Tier 3</td>\n",
              "      <td>Grocery Store</td>\n",
              "      <td>732.3800</td>\n",
              "    </tr>\n",
              "    <tr>\n",
              "      <th>4</th>\n",
              "      <td>NCD19</td>\n",
              "      <td>8.93</td>\n",
              "      <td>Low Fat</td>\n",
              "      <td>0.000000</td>\n",
              "      <td>Household</td>\n",
              "      <td>53.8614</td>\n",
              "      <td>OUT013</td>\n",
              "      <td>1987</td>\n",
              "      <td>High</td>\n",
              "      <td>Tier 3</td>\n",
              "      <td>Supermarket Type1</td>\n",
              "      <td>994.7052</td>\n",
              "    </tr>\n",
              "  </tbody>\n",
              "</table>\n",
              "</div>"
            ],
            "text/plain": [
              "  Item_Identifier  Item_Weight Item_Fat_Content  Item_Visibility  \\\n",
              "0           FDA15         9.30          Low Fat         0.016047   \n",
              "1           DRC01         5.92          Regular         0.019278   \n",
              "2           FDN15        17.50          Low Fat         0.016760   \n",
              "3           FDX07        19.20          Regular         0.000000   \n",
              "4           NCD19         8.93          Low Fat         0.000000   \n",
              "\n",
              "               Item_Type  Item_MRP Outlet_Identifier  \\\n",
              "0                  Dairy  249.8092            OUT049   \n",
              "1            Soft Drinks   48.2692            OUT018   \n",
              "2                   Meat  141.6180            OUT049   \n",
              "3  Fruits and Vegetables  182.0950            OUT010   \n",
              "4              Household   53.8614            OUT013   \n",
              "\n",
              "   Outlet_Establishment_Year Outlet_Size Outlet_Location_Type  \\\n",
              "0                       1999      Medium               Tier 1   \n",
              "1                       2009      Medium               Tier 3   \n",
              "2                       1999      Medium               Tier 1   \n",
              "3                       1998         NaN               Tier 3   \n",
              "4                       1987        High               Tier 3   \n",
              "\n",
              "         Outlet_Type  Item_Outlet_Sales  \n",
              "0  Supermarket Type1          3735.1380  \n",
              "1  Supermarket Type2           443.4228  \n",
              "2  Supermarket Type1          2097.2700  \n",
              "3      Grocery Store           732.3800  \n",
              "4  Supermarket Type1           994.7052  "
            ]
          },
          "metadata": {
            "tags": []
          },
          "execution_count": 80
        }
      ]
    },
    {
      "metadata": {
        "id": "cIyMKLFEG9v-",
        "colab_type": "code",
        "colab": {
          "base_uri": "https://localhost:8080/",
          "height": 34
        },
        "outputId": "347b938c-64f2-4442-df23-58856810e0a5"
      },
      "cell_type": "code",
      "source": [
        "df.shape"
      ],
      "execution_count": 81,
      "outputs": [
        {
          "output_type": "execute_result",
          "data": {
            "text/plain": [
              "(8523, 12)"
            ]
          },
          "metadata": {
            "tags": []
          },
          "execution_count": 81
        }
      ]
    },
    {
      "metadata": {
        "id": "NzTe7luMHBFX",
        "colab_type": "code",
        "colab": {
          "base_uri": "https://localhost:8080/",
          "height": 34
        },
        "outputId": "20c88545-e000-4fcf-8fe3-17be40b732f8"
      },
      "cell_type": "code",
      "source": [
        "df.size"
      ],
      "execution_count": 82,
      "outputs": [
        {
          "output_type": "execute_result",
          "data": {
            "text/plain": [
              "102276"
            ]
          },
          "metadata": {
            "tags": []
          },
          "execution_count": 82
        }
      ]
    },
    {
      "metadata": {
        "id": "ETxi8YVUHJyK",
        "colab_type": "code",
        "colab": {
          "base_uri": "https://localhost:8080/",
          "height": 427
        },
        "outputId": "83794a1f-2cdb-4fd7-a486-f6d0ff18c3ac"
      },
      "cell_type": "code",
      "source": [
        "df.describe(include='all')"
      ],
      "execution_count": 83,
      "outputs": [
        {
          "output_type": "execute_result",
          "data": {
            "text/html": [
              "<div>\n",
              "<style scoped>\n",
              "    .dataframe tbody tr th:only-of-type {\n",
              "        vertical-align: middle;\n",
              "    }\n",
              "\n",
              "    .dataframe tbody tr th {\n",
              "        vertical-align: top;\n",
              "    }\n",
              "\n",
              "    .dataframe thead th {\n",
              "        text-align: right;\n",
              "    }\n",
              "</style>\n",
              "<table border=\"1\" class=\"dataframe\">\n",
              "  <thead>\n",
              "    <tr style=\"text-align: right;\">\n",
              "      <th></th>\n",
              "      <th>Item_Identifier</th>\n",
              "      <th>Item_Weight</th>\n",
              "      <th>Item_Fat_Content</th>\n",
              "      <th>Item_Visibility</th>\n",
              "      <th>Item_Type</th>\n",
              "      <th>Item_MRP</th>\n",
              "      <th>Outlet_Identifier</th>\n",
              "      <th>Outlet_Establishment_Year</th>\n",
              "      <th>Outlet_Size</th>\n",
              "      <th>Outlet_Location_Type</th>\n",
              "      <th>Outlet_Type</th>\n",
              "      <th>Item_Outlet_Sales</th>\n",
              "    </tr>\n",
              "  </thead>\n",
              "  <tbody>\n",
              "    <tr>\n",
              "      <th>count</th>\n",
              "      <td>8523</td>\n",
              "      <td>7060.000000</td>\n",
              "      <td>8523</td>\n",
              "      <td>8523.000000</td>\n",
              "      <td>8523</td>\n",
              "      <td>8523.000000</td>\n",
              "      <td>8523</td>\n",
              "      <td>8523.000000</td>\n",
              "      <td>6113</td>\n",
              "      <td>8523</td>\n",
              "      <td>8523</td>\n",
              "      <td>8523.000000</td>\n",
              "    </tr>\n",
              "    <tr>\n",
              "      <th>unique</th>\n",
              "      <td>1559</td>\n",
              "      <td>NaN</td>\n",
              "      <td>5</td>\n",
              "      <td>NaN</td>\n",
              "      <td>16</td>\n",
              "      <td>NaN</td>\n",
              "      <td>10</td>\n",
              "      <td>NaN</td>\n",
              "      <td>3</td>\n",
              "      <td>3</td>\n",
              "      <td>4</td>\n",
              "      <td>NaN</td>\n",
              "    </tr>\n",
              "    <tr>\n",
              "      <th>top</th>\n",
              "      <td>FDG33</td>\n",
              "      <td>NaN</td>\n",
              "      <td>Low Fat</td>\n",
              "      <td>NaN</td>\n",
              "      <td>Fruits and Vegetables</td>\n",
              "      <td>NaN</td>\n",
              "      <td>OUT027</td>\n",
              "      <td>NaN</td>\n",
              "      <td>Medium</td>\n",
              "      <td>Tier 3</td>\n",
              "      <td>Supermarket Type1</td>\n",
              "      <td>NaN</td>\n",
              "    </tr>\n",
              "    <tr>\n",
              "      <th>freq</th>\n",
              "      <td>10</td>\n",
              "      <td>NaN</td>\n",
              "      <td>5089</td>\n",
              "      <td>NaN</td>\n",
              "      <td>1232</td>\n",
              "      <td>NaN</td>\n",
              "      <td>935</td>\n",
              "      <td>NaN</td>\n",
              "      <td>2793</td>\n",
              "      <td>3350</td>\n",
              "      <td>5577</td>\n",
              "      <td>NaN</td>\n",
              "    </tr>\n",
              "    <tr>\n",
              "      <th>mean</th>\n",
              "      <td>NaN</td>\n",
              "      <td>12.857645</td>\n",
              "      <td>NaN</td>\n",
              "      <td>0.066132</td>\n",
              "      <td>NaN</td>\n",
              "      <td>140.992782</td>\n",
              "      <td>NaN</td>\n",
              "      <td>1997.831867</td>\n",
              "      <td>NaN</td>\n",
              "      <td>NaN</td>\n",
              "      <td>NaN</td>\n",
              "      <td>2181.288914</td>\n",
              "    </tr>\n",
              "    <tr>\n",
              "      <th>std</th>\n",
              "      <td>NaN</td>\n",
              "      <td>4.643456</td>\n",
              "      <td>NaN</td>\n",
              "      <td>0.051598</td>\n",
              "      <td>NaN</td>\n",
              "      <td>62.275067</td>\n",
              "      <td>NaN</td>\n",
              "      <td>8.371760</td>\n",
              "      <td>NaN</td>\n",
              "      <td>NaN</td>\n",
              "      <td>NaN</td>\n",
              "      <td>1706.499616</td>\n",
              "    </tr>\n",
              "    <tr>\n",
              "      <th>min</th>\n",
              "      <td>NaN</td>\n",
              "      <td>4.555000</td>\n",
              "      <td>NaN</td>\n",
              "      <td>0.000000</td>\n",
              "      <td>NaN</td>\n",
              "      <td>31.290000</td>\n",
              "      <td>NaN</td>\n",
              "      <td>1985.000000</td>\n",
              "      <td>NaN</td>\n",
              "      <td>NaN</td>\n",
              "      <td>NaN</td>\n",
              "      <td>33.290000</td>\n",
              "    </tr>\n",
              "    <tr>\n",
              "      <th>25%</th>\n",
              "      <td>NaN</td>\n",
              "      <td>8.773750</td>\n",
              "      <td>NaN</td>\n",
              "      <td>0.026989</td>\n",
              "      <td>NaN</td>\n",
              "      <td>93.826500</td>\n",
              "      <td>NaN</td>\n",
              "      <td>1987.000000</td>\n",
              "      <td>NaN</td>\n",
              "      <td>NaN</td>\n",
              "      <td>NaN</td>\n",
              "      <td>834.247400</td>\n",
              "    </tr>\n",
              "    <tr>\n",
              "      <th>50%</th>\n",
              "      <td>NaN</td>\n",
              "      <td>12.600000</td>\n",
              "      <td>NaN</td>\n",
              "      <td>0.053931</td>\n",
              "      <td>NaN</td>\n",
              "      <td>143.012800</td>\n",
              "      <td>NaN</td>\n",
              "      <td>1999.000000</td>\n",
              "      <td>NaN</td>\n",
              "      <td>NaN</td>\n",
              "      <td>NaN</td>\n",
              "      <td>1794.331000</td>\n",
              "    </tr>\n",
              "    <tr>\n",
              "      <th>75%</th>\n",
              "      <td>NaN</td>\n",
              "      <td>16.850000</td>\n",
              "      <td>NaN</td>\n",
              "      <td>0.094585</td>\n",
              "      <td>NaN</td>\n",
              "      <td>185.643700</td>\n",
              "      <td>NaN</td>\n",
              "      <td>2004.000000</td>\n",
              "      <td>NaN</td>\n",
              "      <td>NaN</td>\n",
              "      <td>NaN</td>\n",
              "      <td>3101.296400</td>\n",
              "    </tr>\n",
              "    <tr>\n",
              "      <th>max</th>\n",
              "      <td>NaN</td>\n",
              "      <td>21.350000</td>\n",
              "      <td>NaN</td>\n",
              "      <td>0.328391</td>\n",
              "      <td>NaN</td>\n",
              "      <td>266.888400</td>\n",
              "      <td>NaN</td>\n",
              "      <td>2009.000000</td>\n",
              "      <td>NaN</td>\n",
              "      <td>NaN</td>\n",
              "      <td>NaN</td>\n",
              "      <td>13086.964800</td>\n",
              "    </tr>\n",
              "  </tbody>\n",
              "</table>\n",
              "</div>"
            ],
            "text/plain": [
              "       Item_Identifier  Item_Weight Item_Fat_Content  Item_Visibility  \\\n",
              "count             8523  7060.000000             8523      8523.000000   \n",
              "unique            1559          NaN                5              NaN   \n",
              "top              FDG33          NaN          Low Fat              NaN   \n",
              "freq                10          NaN             5089              NaN   \n",
              "mean               NaN    12.857645              NaN         0.066132   \n",
              "std                NaN     4.643456              NaN         0.051598   \n",
              "min                NaN     4.555000              NaN         0.000000   \n",
              "25%                NaN     8.773750              NaN         0.026989   \n",
              "50%                NaN    12.600000              NaN         0.053931   \n",
              "75%                NaN    16.850000              NaN         0.094585   \n",
              "max                NaN    21.350000              NaN         0.328391   \n",
              "\n",
              "                    Item_Type     Item_MRP Outlet_Identifier  \\\n",
              "count                    8523  8523.000000              8523   \n",
              "unique                     16          NaN                10   \n",
              "top     Fruits and Vegetables          NaN            OUT027   \n",
              "freq                     1232          NaN               935   \n",
              "mean                      NaN   140.992782               NaN   \n",
              "std                       NaN    62.275067               NaN   \n",
              "min                       NaN    31.290000               NaN   \n",
              "25%                       NaN    93.826500               NaN   \n",
              "50%                       NaN   143.012800               NaN   \n",
              "75%                       NaN   185.643700               NaN   \n",
              "max                       NaN   266.888400               NaN   \n",
              "\n",
              "        Outlet_Establishment_Year Outlet_Size Outlet_Location_Type  \\\n",
              "count                 8523.000000        6113                 8523   \n",
              "unique                        NaN           3                    3   \n",
              "top                           NaN      Medium               Tier 3   \n",
              "freq                          NaN        2793                 3350   \n",
              "mean                  1997.831867         NaN                  NaN   \n",
              "std                      8.371760         NaN                  NaN   \n",
              "min                   1985.000000         NaN                  NaN   \n",
              "25%                   1987.000000         NaN                  NaN   \n",
              "50%                   1999.000000         NaN                  NaN   \n",
              "75%                   2004.000000         NaN                  NaN   \n",
              "max                   2009.000000         NaN                  NaN   \n",
              "\n",
              "              Outlet_Type  Item_Outlet_Sales  \n",
              "count                8523        8523.000000  \n",
              "unique                  4                NaN  \n",
              "top     Supermarket Type1                NaN  \n",
              "freq                 5577                NaN  \n",
              "mean                  NaN        2181.288914  \n",
              "std                   NaN        1706.499616  \n",
              "min                   NaN          33.290000  \n",
              "25%                   NaN         834.247400  \n",
              "50%                   NaN        1794.331000  \n",
              "75%                   NaN        3101.296400  \n",
              "max                   NaN       13086.964800  "
            ]
          },
          "metadata": {
            "tags": []
          },
          "execution_count": 83
        }
      ]
    },
    {
      "metadata": {
        "id": "Dp5j64zQHCPK",
        "colab_type": "code",
        "colab": {
          "base_uri": "https://localhost:8080/",
          "height": 238
        },
        "outputId": "807b7a2e-97a5-4b2b-f235-bcd43e21d9be"
      },
      "cell_type": "code",
      "source": [
        "df.isnull().sum()"
      ],
      "execution_count": 84,
      "outputs": [
        {
          "output_type": "execute_result",
          "data": {
            "text/plain": [
              "Item_Identifier                 0\n",
              "Item_Weight                  1463\n",
              "Item_Fat_Content                0\n",
              "Item_Visibility                 0\n",
              "Item_Type                       0\n",
              "Item_MRP                        0\n",
              "Outlet_Identifier               0\n",
              "Outlet_Establishment_Year       0\n",
              "Outlet_Size                  2410\n",
              "Outlet_Location_Type            0\n",
              "Outlet_Type                     0\n",
              "Item_Outlet_Sales               0\n",
              "dtype: int64"
            ]
          },
          "metadata": {
            "tags": []
          },
          "execution_count": 84
        }
      ]
    },
    {
      "metadata": {
        "id": "vffYarqCW_d9",
        "colab_type": "text"
      },
      "cell_type": "markdown",
      "source": [
        "We can see that there are many null values in Item_Weight and Outlet_size so we have to fill all the null values"
      ]
    },
    {
      "metadata": {
        "id": "eUnTRwuHHNjF",
        "colab_type": "code",
        "colab": {
          "base_uri": "https://localhost:8080/",
          "height": 221
        },
        "outputId": "e7bba8d6-21b0-45d6-bc29-b6a4423fc952"
      },
      "cell_type": "code",
      "source": [
        "list(df.columns)"
      ],
      "execution_count": 85,
      "outputs": [
        {
          "output_type": "execute_result",
          "data": {
            "text/plain": [
              "['Item_Identifier',\n",
              " 'Item_Weight',\n",
              " 'Item_Fat_Content',\n",
              " 'Item_Visibility',\n",
              " 'Item_Type',\n",
              " 'Item_MRP',\n",
              " 'Outlet_Identifier',\n",
              " 'Outlet_Establishment_Year',\n",
              " 'Outlet_Size',\n",
              " 'Outlet_Location_Type',\n",
              " 'Outlet_Type',\n",
              " 'Item_Outlet_Sales']"
            ]
          },
          "metadata": {
            "tags": []
          },
          "execution_count": 85
        }
      ]
    },
    {
      "metadata": {
        "id": "xHtEWjfRXUae",
        "colab_type": "text"
      },
      "cell_type": "markdown",
      "source": [
        "We are going to check the frequency of every thng for further analysis"
      ]
    },
    {
      "metadata": {
        "id": "RYsTsLw3HF1k",
        "colab_type": "code",
        "colab": {
          "base_uri": "https://localhost:8080/",
          "height": 799
        },
        "outputId": "d94e2ebb-1281-45a9-e718-f30cb5b8a69c"
      },
      "cell_type": "code",
      "source": [
        "categorical_columns = [x for x in df.dtypes.index if df.dtypes[x]=='object']\n",
        "categorical_columns = [x for x in categorical_columns if x not in ['Item_Identifier','Outlet_Identifier']]\n",
        "for col in categorical_columns:\n",
        "    print ('\\nFrequency of Categories for varible %s'%col)\n",
        "    print (df[col].value_counts())\n"
      ],
      "execution_count": 86,
      "outputs": [
        {
          "output_type": "stream",
          "text": [
            "\n",
            "Frequency of Categories for varible Item_Fat_Content\n",
            "Low Fat    5089\n",
            "Regular    2889\n",
            "LF          316\n",
            "reg         117\n",
            "low fat     112\n",
            "Name: Item_Fat_Content, dtype: int64\n",
            "\n",
            "Frequency of Categories for varible Item_Type\n",
            "Fruits and Vegetables    1232\n",
            "Snack Foods              1200\n",
            "Household                 910\n",
            "Frozen Foods              856\n",
            "Dairy                     682\n",
            "Canned                    649\n",
            "Baking Goods              648\n",
            "Health and Hygiene        520\n",
            "Soft Drinks               445\n",
            "Meat                      425\n",
            "Breads                    251\n",
            "Hard Drinks               214\n",
            "Others                    169\n",
            "Starchy Foods             148\n",
            "Breakfast                 110\n",
            "Seafood                    64\n",
            "Name: Item_Type, dtype: int64\n",
            "\n",
            "Frequency of Categories for varible Outlet_Size\n",
            "Medium    2793\n",
            "Small     2388\n",
            "High       932\n",
            "Name: Outlet_Size, dtype: int64\n",
            "\n",
            "Frequency of Categories for varible Outlet_Location_Type\n",
            "Tier 3    3350\n",
            "Tier 2    2785\n",
            "Tier 1    2388\n",
            "Name: Outlet_Location_Type, dtype: int64\n",
            "\n",
            "Frequency of Categories for varible Outlet_Type\n",
            "Supermarket Type1    5577\n",
            "Grocery Store        1083\n",
            "Supermarket Type3     935\n",
            "Supermarket Type2     928\n",
            "Name: Outlet_Type, dtype: int64\n"
          ],
          "name": "stdout"
        }
      ]
    },
    {
      "metadata": {
        "id": "VFxYzA5j3jTr",
        "colab_type": "text"
      },
      "cell_type": "markdown",
      "source": [
        "Filling the column Item_weight with its mean"
      ]
    },
    {
      "metadata": {
        "id": "K4bfE8Ef3gdr",
        "colab_type": "code",
        "colab": {}
      },
      "cell_type": "code",
      "source": [
        "df['Item_Weight'] = df['Item_Weight'].fillna((df['Item_Weight'].mean()))"
      ],
      "execution_count": 0,
      "outputs": []
    },
    {
      "metadata": {
        "id": "R4Ih3k1tXd_u",
        "colab_type": "text"
      },
      "cell_type": "markdown",
      "source": [
        "Filling the column Outlet_size with missing "
      ]
    },
    {
      "metadata": {
        "id": "OXc3wBlTDTjJ",
        "colab_type": "code",
        "colab": {
          "base_uri": "https://localhost:8080/",
          "height": 54
        },
        "outputId": "c636224f-c7d8-4d53-f8ae-9cebfa86f0db"
      },
      "cell_type": "code",
      "source": [
        "#df.Outlet_Size = df.Outlet_Size.fillna('Missing')\n",
        "from scipy.stats import mode\n",
        "outletSizeMode = {}\n",
        "for i in set(df['Outlet_Type']):\n",
        "  outletSizeMode[i] = df[df['Outlet_Type'] == i]['Outlet_Size'].mode()[0]\n",
        "\n",
        "print(outletSizeMode)\n"
      ],
      "execution_count": 88,
      "outputs": [
        {
          "output_type": "stream",
          "text": [
            "{'Supermarket Type3': 'Medium', 'Supermarket Type1': 'Small', 'Grocery Store': 'Small', 'Supermarket Type2': 'Medium'}\n"
          ],
          "name": "stdout"
        }
      ]
    },
    {
      "metadata": {
        "id": "uT5TPP1N4QH5",
        "colab_type": "code",
        "colab": {
          "base_uri": "https://localhost:8080/",
          "height": 68
        },
        "outputId": "bd642a3a-6d20-4fae-b3a8-200e30f3f9ad"
      },
      "cell_type": "code",
      "source": [
        "miss_bool = df['Outlet_Size'].isnull()\n",
        "print ('\\nOrignal #missing value in Outlet_Size: %d'% sum(miss_bool))\n",
        "df.loc[miss_bool,'Outlet_Size'] = df.loc[miss_bool,'Outlet_Type'].apply(lambda x: outletSizeMode[x])\n",
        "print (\"Now missing value count in Outlet size:\",sum(df['Outlet_Size'].isnull()))"
      ],
      "execution_count": 89,
      "outputs": [
        {
          "output_type": "stream",
          "text": [
            "\n",
            "Orignal #missing value in Outlet_Size: 2410\n",
            "Now missing value count in Outlet size: 0\n"
          ],
          "name": "stdout"
        }
      ]
    },
    {
      "metadata": {
        "id": "tFNm1K7JDTX9",
        "colab_type": "code",
        "colab": {
          "base_uri": "https://localhost:8080/",
          "height": 238
        },
        "outputId": "c408605c-a2e3-49c8-f1a7-80861d8f42d2"
      },
      "cell_type": "code",
      "source": [
        "df.isnull().sum()"
      ],
      "execution_count": 90,
      "outputs": [
        {
          "output_type": "execute_result",
          "data": {
            "text/plain": [
              "Item_Identifier              0\n",
              "Item_Weight                  0\n",
              "Item_Fat_Content             0\n",
              "Item_Visibility              0\n",
              "Item_Type                    0\n",
              "Item_MRP                     0\n",
              "Outlet_Identifier            0\n",
              "Outlet_Establishment_Year    0\n",
              "Outlet_Size                  0\n",
              "Outlet_Location_Type         0\n",
              "Outlet_Type                  0\n",
              "Item_Outlet_Sales            0\n",
              "dtype: int64"
            ]
          },
          "metadata": {
            "tags": []
          },
          "execution_count": 90
        }
      ]
    },
    {
      "metadata": {
        "id": "y-snGtD5bbua",
        "colab_type": "text"
      },
      "cell_type": "markdown",
      "source": [
        "Now we have fullfilled all the null value\n",
        "\n",
        "Now we will correct the mis-coded values(i.e Some of ‘Low Fat’ values mis-coded as ‘low fat’ and ‘LF’ and some of ‘Regular’ are mentioned as ‘regular’ and 'reg'.)"
      ]
    },
    {
      "metadata": {
        "id": "FzBygdMBZq85",
        "colab_type": "code",
        "colab": {}
      },
      "cell_type": "code",
      "source": [
        "df['Item_Fat_Content']=df['Item_Fat_Content'].replace({'LF': 'Low Fat'}, regex=True)\n",
        "df['Item_Fat_Content']=df['Item_Fat_Content'].replace({'low fat': 'Low Fat'}, regex=True)\n",
        "df['Item_Fat_Content']=df['Item_Fat_Content'].replace({'reg': 'Regular'}, regex=True)\n",
        "df['Item_Fat_Content']=df['Item_Fat_Content'].replace({'regular': 'Regular'}, regex=True)"
      ],
      "execution_count": 0,
      "outputs": []
    },
    {
      "metadata": {
        "id": "ajdUovx6XnJ2",
        "colab_type": "text"
      },
      "cell_type": "markdown",
      "source": [
        "We have Performed Data cleaning on the data set\n",
        "\n",
        "As we have removed all the null values and also corrected the mis-coded value\n",
        "\n",
        "\n",
        "##Now we will prepare EDA Report of the given dataset\n",
        "##Big_Mart_Sales\n",
        "![Big_Mart](https://content3.jdmagicbox.com/comp/kolkata/u2/033pxx33.xx33.170619210052.b7u2/catalogue/big-mart-world-new-town-kolkata-grocery-stores-talhp.jpg)\n",
        "##Objective\n",
        "Our project is to perform data cleaning,   Make a Exploratory Data Analysis,  Visualize distributions and correlation of features,  Build a linear regression model taking the selected features through feature engineering and Pedict the item_outlet_sales for the test data.\n",
        "\n",
        "##Description of data\n",
        "It have 8523  rows and 12  columns and total number of dataset are 102276.\n",
        "There are many samples of item to predict the item_outlet_sales.\n",
        "\n",
        "##Attribute Information\n",
        "The list of information on whose basis we will predict the item_outlet_sales are\n",
        "\n",
        "1. Item_Weight\n",
        "2. Item_Fat_Content\n",
        "3. Item_Visibility\n",
        "4. Item_Type\n",
        "5. Item_MRP\n",
        "6. Outlet_Identifier\n",
        "7. Outlet_Establishment_Year\n",
        "8. Outlet_Size\n",
        "9. Outlet_Location_Type\n",
        "10. Outlet_Type\n",
        "11. Item_Outlet_Sales\n",
        "12. Item_Identifier\n",
        "\n",
        "##UNIVARIANTE ANALYSIS\n",
        "\n",
        "Here we will analyse every variable one by one\n",
        "\n",
        "###Countplot of Item_weight\n",
        "\n",
        "\n"
      ]
    },
    {
      "metadata": {
        "id": "COWh37YgFuLE",
        "colab_type": "code",
        "colab": {
          "base_uri": "https://localhost:8080/",
          "height": 297
        },
        "outputId": "48f1ac87-41cf-470a-a8a1-baf1db1f2f8d"
      },
      "cell_type": "code",
      "source": [
        "plt.hist(x=\"Item_Weight\",data= df,bins=30)\n",
        "plt.grid()\n",
        "plt.title(\"Item Weight COUNTPLOT\")"
      ],
      "execution_count": 15,
      "outputs": [
        {
          "output_type": "execute_result",
          "data": {
            "text/plain": [
              "Text(0.5,1,'Item Weight COUNTPLOT')"
            ]
          },
          "metadata": {
            "tags": []
          },
          "execution_count": 15
        },
        {
          "output_type": "display_data",
          "data": {
            "image/png": "[encoded data removed]",
            "text/plain": [
              "<matplotlib.figure.Figure at 0x7f7ac471d7f0>"
            ]
          },
          "metadata": {
            "tags": []
          }
        }
      ]
    },
    {
      "metadata": {
        "id": "BuemcBexKjzL",
        "colab_type": "text"
      },
      "cell_type": "markdown",
      "source": [
        "We can observe that\n",
        "1. Most of the item weight is of 12-13\n",
        "2. Continious in nature and very few outliers are present\n",
        "3. Doesnot contain skewness, 12.5 is the mean weight\n",
        "#Count plot of Item Fat content\n"
      ]
    },
    {
      "metadata": {
        "id": "A5I6bGEYUdKO",
        "colab_type": "code",
        "colab": {
          "base_uri": "https://localhost:8080/",
          "height": 297
        },
        "outputId": "96e1d180-3fda-42bf-980d-b2290af3a0ec"
      },
      "cell_type": "code",
      "source": [
        "plt.hist(x=\"Item_Fat_Content\",data= df,bins=30)\n",
        "plt.grid()\n",
        "plt.title(\"Item Weight COUNTPLOT\")"
      ],
      "execution_count": 16,
      "outputs": [
        {
          "output_type": "execute_result",
          "data": {
            "text/plain": [
              "Text(0.5,1,'Item Weight COUNTPLOT')"
            ]
          },
          "metadata": {
            "tags": []
          },
          "execution_count": 16
        },
        {
          "output_type": "display_data",
          "data": {
            "image/png": "[encoded data removed]",
            "text/plain": [
              "<matplotlib.figure.Figure at 0x7f7ac46886d8>"
            ]
          },
          "metadata": {
            "tags": []
          }
        }
      ]
    },
    {
      "metadata": {
        "id": "P3cwRaTWKk9P",
        "colab_type": "text"
      },
      "cell_type": "markdown",
      "source": [
        "We can observe that\n",
        "1. Low fat item are more than regular item\n",
        "#Count plot of Item_MRP"
      ]
    },
    {
      "metadata": {
        "id": "WL_ea3bf-nMB",
        "colab_type": "code",
        "colab": {
          "base_uri": "https://localhost:8080/",
          "height": 280
        },
        "outputId": "ff83c1f8-da68-481e-fa2a-69926a3d046d"
      },
      "cell_type": "code",
      "source": [
        "plt.hist(df['Item_MRP' ])\n",
        "plt.title(\"Sulphates distplot\")\n",
        "plt.show()"
      ],
      "execution_count": 17,
      "outputs": [
        {
          "output_type": "display_data",
          "data": {
            "image/png": "[encoded data removed]",
            "text/plain": [
              "<matplotlib.figure.Figure at 0x7f7ac25d6f60>"
            ]
          },
          "metadata": {
            "tags": []
          }
        }
      ]
    },
    {
      "metadata": {
        "id": "cshKQiBsKmOT",
        "colab_type": "text"
      },
      "cell_type": "markdown",
      "source": [
        "We can say that\n",
        "1. Major product have the MRP between 50-200\n",
        "2. No outliers is present and graph is continious\n",
        "#Bar plot of Item type"
      ]
    },
    {
      "metadata": {
        "id": "aNjK3ODdKnHs",
        "colab_type": "code",
        "colab": {
          "base_uri": "https://localhost:8080/",
          "height": 369
        },
        "outputId": "9588f68c-df8d-4a63-b636-842bdfbc87a5"
      },
      "cell_type": "code",
      "source": [
        "df['Item_Type'].value_counts().plot.bar()"
      ],
      "execution_count": 18,
      "outputs": [
        {
          "output_type": "execute_result",
          "data": {
            "text/plain": [
              "<matplotlib.axes._subplots.AxesSubplot at 0x7f7ac2520518>"
            ]
          },
          "metadata": {
            "tags": []
          },
          "execution_count": 18
        },
        {
          "output_type": "display_data",
          "data": {
            "image/png": "[encoded data removed]",
            "text/plain": [
              "<matplotlib.figure.Figure at 0x7f7ac25377f0>"
            ]
          },
          "metadata": {
            "tags": []
          }
        }
      ]
    },
    {
      "metadata": {
        "id": "3W7ihqDOXU9r",
        "colab_type": "text"
      },
      "cell_type": "markdown",
      "source": [
        "We can say that\n",
        "1. Major items are Fruits and vegetable, snack, household, dairy,canned and baking goods\n",
        "2. There are very less breakfast, starchy and seafood items\n",
        "#Displot of Item_Visibility"
      ]
    },
    {
      "metadata": {
        "id": "zi4rdQqBEqxX",
        "colab_type": "code",
        "colab": {
          "base_uri": "https://localhost:8080/",
          "height": 294
        },
        "outputId": "9010fa28-ec5c-434f-ef11-176db2de96bc"
      },
      "cell_type": "code",
      "source": [
        "sns.distplot(df['Item_Visibility'])\n",
        "plt.title(\"Item Visibility distplot\")\n",
        "plt.show()"
      ],
      "execution_count": 19,
      "outputs": [
        {
          "output_type": "display_data",
          "data": {
            "image/png": "[encoded data removed]",
            "text/plain": [
              "<matplotlib.figure.Figure at 0x7f7ac24e4588>"
            ]
          },
          "metadata": {
            "tags": []
          }
        }
      ]
    },
    {
      "metadata": {
        "id": "aTlnSq4RX826",
        "colab_type": "text"
      },
      "cell_type": "markdown",
      "source": [
        "We can say that \n",
        "1. Most of the product have visibility less than .20\n",
        "2. The graph is having skewness and there are some outliers present\n",
        "#Count plot of Outlet Type\n"
      ]
    },
    {
      "metadata": {
        "id": "smfQq9wHGXvi",
        "colab_type": "code",
        "colab": {
          "base_uri": "https://localhost:8080/",
          "height": 360
        },
        "outputId": "1a9567c9-b455-41c2-bf45-faa752e3d0a0"
      },
      "cell_type": "code",
      "source": [
        "df['Outlet_Type'].value_counts().plot.bar()"
      ],
      "execution_count": 20,
      "outputs": [
        {
          "output_type": "execute_result",
          "data": {
            "text/plain": [
              "<matplotlib.axes._subplots.AxesSubplot at 0x7f7ac247a438>"
            ]
          },
          "metadata": {
            "tags": []
          },
          "execution_count": 20
        },
        {
          "output_type": "display_data",
          "data": {
            "image/png": "[encoded data removed]",
            "text/plain": [
              "<matplotlib.figure.Figure at 0x7f7ac23a74a8>"
            ]
          },
          "metadata": {
            "tags": []
          }
        }
      ]
    },
    {
      "metadata": {
        "id": "en0YAAyhY1E7",
        "colab_type": "text"
      },
      "cell_type": "markdown",
      "source": [
        "We can say that \n",
        "1. Super market type-1 is very large in number\n",
        "2. Rest 3 are almost same in number\n",
        "#Count plot of Outlet location type"
      ]
    },
    {
      "metadata": {
        "id": "8J5mnhGaGfRN",
        "colab_type": "code",
        "colab": {
          "base_uri": "https://localhost:8080/",
          "height": 301
        },
        "outputId": "3a32c90e-a3d3-43ef-ba5e-935ab778aafb"
      },
      "cell_type": "code",
      "source": [
        "df['Outlet_Location_Type'].value_counts().plot.bar()"
      ],
      "execution_count": 21,
      "outputs": [
        {
          "output_type": "execute_result",
          "data": {
            "text/plain": [
              "<matplotlib.axes._subplots.AxesSubplot at 0x7f7ac23f83c8>"
            ]
          },
          "metadata": {
            "tags": []
          },
          "execution_count": 21
        },
        {
          "output_type": "display_data",
          "data": {
            "image/png": "[encoded data removed]",
            "text/plain": [
              "<matplotlib.figure.Figure at 0x7f7ac23e2a90>"
            ]
          },
          "metadata": {
            "tags": []
          }
        }
      ]
    },
    {
      "metadata": {
        "id": "xALyrKNWZdL_",
        "colab_type": "text"
      },
      "cell_type": "markdown",
      "source": [
        "#Bivariate Analysis\n",
        "Numerical "
      ]
    },
    {
      "metadata": {
        "id": "GJCcjUlfaKJJ",
        "colab_type": "code",
        "colab": {
          "base_uri": "https://localhost:8080/",
          "height": 500
        },
        "outputId": "538917d7-96f4-4d33-96d0-d70dbf01999a"
      },
      "cell_type": "code",
      "source": [
        "plt.figure(figsize=(12,8))\n",
        "sns.heatmap(df.corr(),annot=True)"
      ],
      "execution_count": 22,
      "outputs": [
        {
          "output_type": "execute_result",
          "data": {
            "text/plain": [
              "<matplotlib.axes._subplots.AxesSubplot at 0x7f7ac2573518>"
            ]
          },
          "metadata": {
            "tags": []
          },
          "execution_count": 22
        },
        {
          "output_type": "display_data",
          "data": {
            "image/png": "[encoded data removed]",
            "text/plain": [
              "<matplotlib.figure.Figure at 0x7f7ac23a7940>"
            ]
          },
          "metadata": {
            "tags": []
          }
        }
      ]
    },
    {
      "metadata": {
        "id": "1O4t7lYqLkpW",
        "colab_type": "text"
      },
      "cell_type": "markdown",
      "source": [
        "#Box Plot of Outlet_Identifier vs Item_Outlet_Sales"
      ]
    },
    {
      "metadata": {
        "id": "oUKlNYxja2E0",
        "colab_type": "code",
        "colab": {
          "base_uri": "https://localhost:8080/",
          "height": 365
        },
        "outputId": "38880d75-be30-4409-8739-e2acb6045c20"
      },
      "cell_type": "code",
      "source": [
        "sns.boxplot(x='Outlet_Identifier',y='Item_Outlet_Sales',data=df)\n",
        "plt.title(\"Sales and Outlet identifier box plot\")\n"
      ],
      "execution_count": 23,
      "outputs": [
        {
          "output_type": "stream",
          "text": [
            "/usr/local/lib/python3.6/dist-packages/seaborn/categorical.py:454: FutureWarning: remove_na is deprecated and is a private function. Do not use.\n",
            "  box_data = remove_na(group_data)\n"
          ],
          "name": "stderr"
        },
        {
          "output_type": "execute_result",
          "data": {
            "text/plain": [
              "Text(0.5,1,'Sales and Outlet identifier box plot')"
            ]
          },
          "metadata": {
            "tags": []
          },
          "execution_count": 23
        },
        {
          "output_type": "display_data",
          "data": {
            "image/png": "[encoded data removed]",
            "text/plain": [
              "<matplotlib.figure.Figure at 0x7f7ac252b6d8>"
            ]
          },
          "metadata": {
            "tags": []
          }
        }
      ]
    },
    {
      "metadata": {
        "id": "nJ3seNRVS12J",
        "colab_type": "text"
      },
      "cell_type": "markdown",
      "source": [
        "We can say that \n",
        "1. Most of the outlets sales is between 1000 to 4000\n",
        "2. There is some outliers present \n",
        "#Box plot of Item type vs Item visibilty of All Outlet type"
      ]
    },
    {
      "metadata": {
        "id": "AnKPzBy-iLZ1",
        "colab_type": "code",
        "colab": {
          "base_uri": "https://localhost:8080/",
          "height": 927
        },
        "outputId": "ae29dbc9-3912-402a-8e01-914be63d5301"
      },
      "cell_type": "code",
      "source": [
        "sn=sns.factorplot(x=\"Item_Type\", y=\"Item_Visibility\",hue=\"Outlet_Type\",data=df, kind=\"box\",size=12, aspect=1)"
      ],
      "execution_count": 24,
      "outputs": [
        {
          "output_type": "stream",
          "text": [
            "/usr/local/lib/python3.6/dist-packages/seaborn/categorical.py:482: FutureWarning: remove_na is deprecated and is a private function. Do not use.\n",
            "  box_data = remove_na(group_data[hue_mask])\n"
          ],
          "name": "stderr"
        },
        {
          "output_type": "display_data",
          "data": {
            "image/png": "[encoded data removed]",
            "text/plain": [
              "<matplotlib.figure.Figure at 0x7f7ac246b5f8>"
            ]
          },
          "metadata": {
            "tags": []
          }
        }
      ]
    },
    {
      "metadata": {
        "id": "xKMZq978Xafm",
        "colab_type": "text"
      },
      "cell_type": "markdown",
      "source": [
        "We can say that\n",
        "1. Grocery store type has more visibilty\n",
        "2. there are few outliers present in the graph\n",
        "#Pair plot of Item visibilty and Item Outlet sales for different outlet type"
      ]
    },
    {
      "metadata": {
        "id": "fUhyGnVSlT4d",
        "colab_type": "code",
        "colab": {
          "base_uri": "https://localhost:8080/",
          "height": 382
        },
        "outputId": "cd8be0eb-0af7-4291-9118-a0ea0cda82ae"
      },
      "cell_type": "code",
      "source": [
        "sns.pairplot(x_vars=['Item_Visibility'], y_vars=['Item_Outlet_Sales'], data=df, hue=\"Outlet_Type\", size=5)"
      ],
      "execution_count": 25,
      "outputs": [
        {
          "output_type": "execute_result",
          "data": {
            "text/plain": [
              "<seaborn.axisgrid.PairGrid at 0x7f7ac223f080>"
            ]
          },
          "metadata": {
            "tags": []
          },
          "execution_count": 25
        },
        {
          "output_type": "display_data",
          "data": {
            "image/png": "[encoded data removed]",
            "text/plain": [
              "<matplotlib.figure.Figure at 0x7f7ac21f1630>"
            ]
          },
          "metadata": {
            "tags": []
          }
        }
      ]
    },
    {
      "metadata": {
        "id": "obaXbeT8dx8k",
        "colab_type": "text"
      },
      "cell_type": "markdown",
      "source": [
        "We can say that\n",
        "1. Most of the sales are of item visibility in the range 0-.20\n",
        "2. Grocery store are having sales less than 2000 for most of the visibility\n",
        "3. there are few outliers present \n",
        "#ItemWeigth vs Item outlet sale Regplot"
      ]
    },
    {
      "metadata": {
        "id": "iBYtfcGNfk9P",
        "colab_type": "code",
        "colab": {
          "base_uri": "https://localhost:8080/",
          "height": 294
        },
        "outputId": "ae95ebe3-9579-46b3-94aa-46d1c6641739"
      },
      "cell_type": "code",
      "source": [
        "sns.regplot(x='Item_Weight',y='Item_Outlet_Sales',data=df,x_jitter=0.3,scatter_kws={'alpha':0.1})\n",
        "plt.title(\"Item_Weight v/s Item_Outlet_Sales\")\n",
        "plt.show()"
      ],
      "execution_count": 27,
      "outputs": [
        {
          "output_type": "display_data",
          "data": {
            "image/png": "[encoded data removed]",
            "text/plain": [
              "<matplotlib.figure.Figure at 0x7f7ac2589c18>"
            ]
          },
          "metadata": {
            "tags": []
          }
        }
      ]
    },
    {
      "metadata": {
        "id": "UMbdDrMJftvD",
        "colab_type": "text"
      },
      "cell_type": "markdown",
      "source": [
        "There is nothing much to be concluded from this plot\n",
        "\n",
        "1. High number of product have weight near 12.5\n",
        "\n",
        "2. Major sales is less than 2000\n",
        "#Scatter plot of Item_MRP and Item outlet sales\n",
        "\n"
      ]
    },
    {
      "metadata": {
        "id": "5jVckwdT5RMF",
        "colab_type": "code",
        "colab": {
          "base_uri": "https://localhost:8080/",
          "height": 388
        },
        "outputId": "7e72c3ba-4496-40db-8c5d-aed37e7f78ec"
      },
      "cell_type": "code",
      "source": [
        "plt.figure(figsize=(8,6));\n",
        "sns.regplot('Item_MRP', 'Item_Outlet_Sales', data=df, x_jitter=0.3, scatter_kws={'alpha':0.3}, color='black');"
      ],
      "execution_count": 28,
      "outputs": [
        {
          "output_type": "display_data",
          "data": {
            "image/png": "[encoded data removed]",
            "text/plain": [
              "<matplotlib.figure.Figure at 0x7f7ac03a61d0>"
            ]
          },
          "metadata": {
            "tags": []
          }
        }
      ]
    },
    {
      "metadata": {
        "id": "cpEdV48V5ZA0",
        "colab_type": "text"
      },
      "cell_type": "markdown",
      "source": [
        "We can say that\n",
        "1. Their is positive correlation between Item Mrp and Item outlet sales\n",
        "2. Item having low price are sold heaveily in numer as the graph is denser at low MRP\n",
        "3. Few outliers are present in the data \n",
        "\n",
        "EDA report is done we have gone thru various variables and their plot and studied about the data and their nature\n",
        "Now we will come to the part FEATURE ENGINEERING\n",
        "#FEATURE ENGINEERING\n",
        "We have seen some diiference in the data Now we will remove that difference and make our data ready for analysis. Some new variables may be created to resolve these difference using the given variables\n"
      ]
    },
    {
      "metadata": {
        "id": "M_f-cMW58O3f",
        "colab_type": "code",
        "colab": {
          "base_uri": "https://localhost:8080/",
          "height": 309
        },
        "outputId": "0cf0e7b4-0d38-48cb-fd54-5840fbc79b2d"
      },
      "cell_type": "code",
      "source": [
        "data = df.copy()\n",
        "data.head()"
      ],
      "execution_count": 92,
      "outputs": [
        {
          "output_type": "execute_result",
          "data": {
            "text/html": [
              "<div>\n",
              "<style scoped>\n",
              "    .dataframe tbody tr th:only-of-type {\n",
              "        vertical-align: middle;\n",
              "    }\n",
              "\n",
              "    .dataframe tbody tr th {\n",
              "        vertical-align: top;\n",
              "    }\n",
              "\n",
              "    .dataframe thead th {\n",
              "        text-align: right;\n",
              "    }\n",
              "</style>\n",
              "<table border=\"1\" class=\"dataframe\">\n",
              "  <thead>\n",
              "    <tr style=\"text-align: right;\">\n",
              "      <th></th>\n",
              "      <th>Item_Identifier</th>\n",
              "      <th>Item_Weight</th>\n",
              "      <th>Item_Fat_Content</th>\n",
              "      <th>Item_Visibility</th>\n",
              "      <th>Item_Type</th>\n",
              "      <th>Item_MRP</th>\n",
              "      <th>Outlet_Identifier</th>\n",
              "      <th>Outlet_Establishment_Year</th>\n",
              "      <th>Outlet_Size</th>\n",
              "      <th>Outlet_Location_Type</th>\n",
              "      <th>Outlet_Type</th>\n",
              "      <th>Item_Outlet_Sales</th>\n",
              "    </tr>\n",
              "  </thead>\n",
              "  <tbody>\n",
              "    <tr>\n",
              "      <th>0</th>\n",
              "      <td>FDA15</td>\n",
              "      <td>9.30</td>\n",
              "      <td>Low Fat</td>\n",
              "      <td>0.016047</td>\n",
              "      <td>Dairy</td>\n",
              "      <td>249.8092</td>\n",
              "      <td>OUT049</td>\n",
              "      <td>1999</td>\n",
              "      <td>Medium</td>\n",
              "      <td>Tier 1</td>\n",
              "      <td>Supermarket Type1</td>\n",
              "      <td>3735.1380</td>\n",
              "    </tr>\n",
              "    <tr>\n",
              "      <th>1</th>\n",
              "      <td>DRC01</td>\n",
              "      <td>5.92</td>\n",
              "      <td>Regular</td>\n",
              "      <td>0.019278</td>\n",
              "      <td>Soft Drinks</td>\n",
              "      <td>48.2692</td>\n",
              "      <td>OUT018</td>\n",
              "      <td>2009</td>\n",
              "      <td>Medium</td>\n",
              "      <td>Tier 3</td>\n",
              "      <td>Supermarket Type2</td>\n",
              "      <td>443.4228</td>\n",
              "    </tr>\n",
              "    <tr>\n",
              "      <th>2</th>\n",
              "      <td>FDN15</td>\n",
              "      <td>17.50</td>\n",
              "      <td>Low Fat</td>\n",
              "      <td>0.016760</td>\n",
              "      <td>Meat</td>\n",
              "      <td>141.6180</td>\n",
              "      <td>OUT049</td>\n",
              "      <td>1999</td>\n",
              "      <td>Medium</td>\n",
              "      <td>Tier 1</td>\n",
              "      <td>Supermarket Type1</td>\n",
              "      <td>2097.2700</td>\n",
              "    </tr>\n",
              "    <tr>\n",
              "      <th>3</th>\n",
              "      <td>FDX07</td>\n",
              "      <td>19.20</td>\n",
              "      <td>Regular</td>\n",
              "      <td>0.000000</td>\n",
              "      <td>Fruits and Vegetables</td>\n",
              "      <td>182.0950</td>\n",
              "      <td>OUT010</td>\n",
              "      <td>1998</td>\n",
              "      <td>Small</td>\n",
              "      <td>Tier 3</td>\n",
              "      <td>Grocery Store</td>\n",
              "      <td>732.3800</td>\n",
              "    </tr>\n",
              "    <tr>\n",
              "      <th>4</th>\n",
              "      <td>NCD19</td>\n",
              "      <td>8.93</td>\n",
              "      <td>Low Fat</td>\n",
              "      <td>0.000000</td>\n",
              "      <td>Household</td>\n",
              "      <td>53.8614</td>\n",
              "      <td>OUT013</td>\n",
              "      <td>1987</td>\n",
              "      <td>High</td>\n",
              "      <td>Tier 3</td>\n",
              "      <td>Supermarket Type1</td>\n",
              "      <td>994.7052</td>\n",
              "    </tr>\n",
              "  </tbody>\n",
              "</table>\n",
              "</div>"
            ],
            "text/plain": [
              "  Item_Identifier  Item_Weight Item_Fat_Content  Item_Visibility  \\\n",
              "0           FDA15         9.30          Low Fat         0.016047   \n",
              "1           DRC01         5.92          Regular         0.019278   \n",
              "2           FDN15        17.50          Low Fat         0.016760   \n",
              "3           FDX07        19.20          Regular         0.000000   \n",
              "4           NCD19         8.93          Low Fat         0.000000   \n",
              "\n",
              "               Item_Type  Item_MRP Outlet_Identifier  \\\n",
              "0                  Dairy  249.8092            OUT049   \n",
              "1            Soft Drinks   48.2692            OUT018   \n",
              "2                   Meat  141.6180            OUT049   \n",
              "3  Fruits and Vegetables  182.0950            OUT010   \n",
              "4              Household   53.8614            OUT013   \n",
              "\n",
              "   Outlet_Establishment_Year Outlet_Size Outlet_Location_Type  \\\n",
              "0                       1999      Medium               Tier 1   \n",
              "1                       2009      Medium               Tier 3   \n",
              "2                       1999      Medium               Tier 1   \n",
              "3                       1998       Small               Tier 3   \n",
              "4                       1987        High               Tier 3   \n",
              "\n",
              "         Outlet_Type  Item_Outlet_Sales  \n",
              "0  Supermarket Type1          3735.1380  \n",
              "1  Supermarket Type2           443.4228  \n",
              "2  Supermarket Type1          2097.2700  \n",
              "3      Grocery Store           732.3800  \n",
              "4  Supermarket Type1           994.7052  "
            ]
          },
          "metadata": {
            "tags": []
          },
          "execution_count": 92
        }
      ]
    },
    {
      "metadata": {
        "id": "oPKud61f-MS4",
        "colab_type": "text"
      },
      "cell_type": "markdown",
      "source": [
        "We have created a copy of original data and now we will perform feature engineering on that"
      ]
    },
    {
      "metadata": {
        "id": "0IcRkiWZ-JCm",
        "colab_type": "code",
        "colab": {
          "base_uri": "https://localhost:8080/",
          "height": 204
        },
        "outputId": "be3c4b2a-ee97-464a-c463-8f5f028618b4"
      },
      "cell_type": "code",
      "source": [
        "data.pivot_table(values='Item_Outlet_Sales',index='Outlet_Type')"
      ],
      "execution_count": 93,
      "outputs": [
        {
          "output_type": "execute_result",
          "data": {
            "text/html": [
              "<div>\n",
              "<style scoped>\n",
              "    .dataframe tbody tr th:only-of-type {\n",
              "        vertical-align: middle;\n",
              "    }\n",
              "\n",
              "    .dataframe tbody tr th {\n",
              "        vertical-align: top;\n",
              "    }\n",
              "\n",
              "    .dataframe thead th {\n",
              "        text-align: right;\n",
              "    }\n",
              "</style>\n",
              "<table border=\"1\" class=\"dataframe\">\n",
              "  <thead>\n",
              "    <tr style=\"text-align: right;\">\n",
              "      <th></th>\n",
              "      <th>Item_Outlet_Sales</th>\n",
              "    </tr>\n",
              "    <tr>\n",
              "      <th>Outlet_Type</th>\n",
              "      <th></th>\n",
              "    </tr>\n",
              "  </thead>\n",
              "  <tbody>\n",
              "    <tr>\n",
              "      <th>Grocery Store</th>\n",
              "      <td>339.828500</td>\n",
              "    </tr>\n",
              "    <tr>\n",
              "      <th>Supermarket Type1</th>\n",
              "      <td>2316.181148</td>\n",
              "    </tr>\n",
              "    <tr>\n",
              "      <th>Supermarket Type2</th>\n",
              "      <td>1995.498739</td>\n",
              "    </tr>\n",
              "    <tr>\n",
              "      <th>Supermarket Type3</th>\n",
              "      <td>3694.038558</td>\n",
              "    </tr>\n",
              "  </tbody>\n",
              "</table>\n",
              "</div>"
            ],
            "text/plain": [
              "                   Item_Outlet_Sales\n",
              "Outlet_Type                         \n",
              "Grocery Store             339.828500\n",
              "Supermarket Type1        2316.181148\n",
              "Supermarket Type2        1995.498739\n",
              "Supermarket Type3        3694.038558"
            ]
          },
          "metadata": {
            "tags": []
          },
          "execution_count": 93
        }
      ]
    },
    {
      "metadata": {
        "id": "NQpBDM6e-4I0",
        "colab_type": "text"
      },
      "cell_type": "markdown",
      "source": [
        "There is lot of diffference in the sell of all Outlet type so we will leave it as it is.\n"
      ]
    },
    {
      "metadata": {
        "id": "DdR3kuc5_bFG",
        "colab_type": "code",
        "colab": {
          "base_uri": "https://localhost:8080/",
          "height": 576
        },
        "outputId": "212f8ba0-a6bd-4f4a-d972-a9fe7e2ac69e"
      },
      "cell_type": "code",
      "source": [
        "data.pivot_table(values='Item_Outlet_Sales',index='Item_Type')"
      ],
      "execution_count": 94,
      "outputs": [
        {
          "output_type": "execute_result",
          "data": {
            "text/html": [
              "<div>\n",
              "<style scoped>\n",
              "    .dataframe tbody tr th:only-of-type {\n",
              "        vertical-align: middle;\n",
              "    }\n",
              "\n",
              "    .dataframe tbody tr th {\n",
              "        vertical-align: top;\n",
              "    }\n",
              "\n",
              "    .dataframe thead th {\n",
              "        text-align: right;\n",
              "    }\n",
              "</style>\n",
              "<table border=\"1\" class=\"dataframe\">\n",
              "  <thead>\n",
              "    <tr style=\"text-align: right;\">\n",
              "      <th></th>\n",
              "      <th>Item_Outlet_Sales</th>\n",
              "    </tr>\n",
              "    <tr>\n",
              "      <th>Item_Type</th>\n",
              "      <th></th>\n",
              "    </tr>\n",
              "  </thead>\n",
              "  <tbody>\n",
              "    <tr>\n",
              "      <th>Baking Goods</th>\n",
              "      <td>1952.971207</td>\n",
              "    </tr>\n",
              "    <tr>\n",
              "      <th>Breads</th>\n",
              "      <td>2204.132226</td>\n",
              "    </tr>\n",
              "    <tr>\n",
              "      <th>Breakfast</th>\n",
              "      <td>2111.808651</td>\n",
              "    </tr>\n",
              "    <tr>\n",
              "      <th>Canned</th>\n",
              "      <td>2225.194904</td>\n",
              "    </tr>\n",
              "    <tr>\n",
              "      <th>Dairy</th>\n",
              "      <td>2232.542597</td>\n",
              "    </tr>\n",
              "    <tr>\n",
              "      <th>Frozen Foods</th>\n",
              "      <td>2132.867744</td>\n",
              "    </tr>\n",
              "    <tr>\n",
              "      <th>Fruits and Vegetables</th>\n",
              "      <td>2289.009592</td>\n",
              "    </tr>\n",
              "    <tr>\n",
              "      <th>Hard Drinks</th>\n",
              "      <td>2139.221622</td>\n",
              "    </tr>\n",
              "    <tr>\n",
              "      <th>Health and Hygiene</th>\n",
              "      <td>2010.000265</td>\n",
              "    </tr>\n",
              "    <tr>\n",
              "      <th>Household</th>\n",
              "      <td>2258.784300</td>\n",
              "    </tr>\n",
              "    <tr>\n",
              "      <th>Meat</th>\n",
              "      <td>2158.977911</td>\n",
              "    </tr>\n",
              "    <tr>\n",
              "      <th>Others</th>\n",
              "      <td>1926.139702</td>\n",
              "    </tr>\n",
              "    <tr>\n",
              "      <th>Seafood</th>\n",
              "      <td>2326.065928</td>\n",
              "    </tr>\n",
              "    <tr>\n",
              "      <th>Snack Foods</th>\n",
              "      <td>2277.321739</td>\n",
              "    </tr>\n",
              "    <tr>\n",
              "      <th>Soft Drinks</th>\n",
              "      <td>2006.511735</td>\n",
              "    </tr>\n",
              "    <tr>\n",
              "      <th>Starchy Foods</th>\n",
              "      <td>2374.332773</td>\n",
              "    </tr>\n",
              "  </tbody>\n",
              "</table>\n",
              "</div>"
            ],
            "text/plain": [
              "                       Item_Outlet_Sales\n",
              "Item_Type                               \n",
              "Baking Goods                 1952.971207\n",
              "Breads                       2204.132226\n",
              "Breakfast                    2111.808651\n",
              "Canned                       2225.194904\n",
              "Dairy                        2232.542597\n",
              "Frozen Foods                 2132.867744\n",
              "Fruits and Vegetables        2289.009592\n",
              "Hard Drinks                  2139.221622\n",
              "Health and Hygiene           2010.000265\n",
              "Household                    2258.784300\n",
              "Meat                         2158.977911\n",
              "Others                       1926.139702\n",
              "Seafood                      2326.065928\n",
              "Snack Foods                  2277.321739\n",
              "Soft Drinks                  2006.511735\n",
              "Starchy Foods                2374.332773"
            ]
          },
          "metadata": {
            "tags": []
          },
          "execution_count": 94
        }
      ]
    },
    {
      "metadata": {
        "id": "7Jxoep50AODS",
        "colab_type": "text"
      },
      "cell_type": "markdown",
      "source": [
        "There is very less difference in sell and we can combine various item as single Like(Baking Goods, Breads, Breakfast fruits and vegetables meat   as food and dairy, hard drinks soft drinks as drinks and rest as Non Consumable)"
      ]
    },
    {
      "metadata": {
        "id": "Y0NUIhSC_qCT",
        "colab_type": "code",
        "colab": {
          "base_uri": "https://localhost:8080/",
          "height": 374
        },
        "outputId": "077a9a0c-4b5f-4e5e-9e73-3a9c706e2a7b"
      },
      "cell_type": "code",
      "source": [
        "data['CombineItemType'] = data['Item_Identifier'].apply(lambda x : x[0:2])\n",
        "data['CombineItemType'].head(20)"
      ],
      "execution_count": 95,
      "outputs": [
        {
          "output_type": "execute_result",
          "data": {
            "text/plain": [
              "0     FD\n",
              "1     DR\n",
              "2     FD\n",
              "3     FD\n",
              "4     NC\n",
              "5     FD\n",
              "6     FD\n",
              "7     FD\n",
              "8     FD\n",
              "9     FD\n",
              "10    FD\n",
              "11    FD\n",
              "12    FD\n",
              "13    FD\n",
              "14    FD\n",
              "15    FD\n",
              "16    NC\n",
              "17    FD\n",
              "18    DR\n",
              "19    FD\n",
              "Name: CombineItemType, dtype: object"
            ]
          },
          "metadata": {
            "tags": []
          },
          "execution_count": 95
        }
      ]
    },
    {
      "metadata": {
        "id": "PjCsH-MPCZZ9",
        "colab_type": "code",
        "colab": {
          "base_uri": "https://localhost:8080/",
          "height": 85
        },
        "outputId": "8cdfb1b2-c6c1-45d4-99c6-3cbc6434c68a"
      },
      "cell_type": "code",
      "source": [
        "data['CombineItemType'] = data['CombineItemType'].map({'FD':'Fooding', 'DR':'Drinking', 'NC':'NonConsumable'})\n",
        "data['CombineItemType'].value_counts()"
      ],
      "execution_count": 96,
      "outputs": [
        {
          "output_type": "execute_result",
          "data": {
            "text/plain": [
              "Fooding          6125\n",
              "NonConsumable    1599\n",
              "Drinking          799\n",
              "Name: CombineItemType, dtype: int64"
            ]
          },
          "metadata": {
            "tags": []
          },
          "execution_count": 96
        }
      ]
    },
    {
      "metadata": {
        "id": "kBIVq5hxDF_6",
        "colab_type": "text"
      },
      "cell_type": "markdown",
      "source": [
        "NOW We will modify Item Visibility\n",
        "\n",
        "As there are visibilty of some item as '0' which make no sense so we will replace it with mean of visibilty"
      ]
    },
    {
      "metadata": {
        "id": "w5sysONwC9x3",
        "colab_type": "code",
        "colab": {
          "base_uri": "https://localhost:8080/",
          "height": 34
        },
        "outputId": "bf3100c3-5ba1-4719-a752-c7a0c8a2e788"
      },
      "cell_type": "code",
      "source": [
        "data['Item_Visibility'].replace(0,data['Item_Visibility'].mean(),inplace=True)\n",
        "print ('Number of 0 values after modification: %d'%sum(data['Item_Visibility'] == 0))"
      ],
      "execution_count": 97,
      "outputs": [
        {
          "output_type": "stream",
          "text": [
            "Number of 0 values after modification: 0\n"
          ],
          "name": "stdout"
        }
      ]
    },
    {
      "metadata": {
        "id": "NTi1X7bkH4uA",
        "colab_type": "text"
      },
      "cell_type": "markdown",
      "source": [
        "WE will modify Establishment Year\n",
        "As we know that we are having the data of sales collected in 2013\n",
        "\n",
        "Older the store greater the sales as they have faith on the store"
      ]
    },
    {
      "metadata": {
        "id": "P9ltkluAH3h_",
        "colab_type": "code",
        "colab": {
          "base_uri": "https://localhost:8080/",
          "height": 170
        },
        "outputId": "dddb7e71-1383-4415-8efc-9a5bc7e9b899"
      },
      "cell_type": "code",
      "source": [
        "data['Outlet_Years'] = 2013 - data['Outlet_Establishment_Year']\n",
        "data['Outlet_Years'].describe()"
      ],
      "execution_count": 98,
      "outputs": [
        {
          "output_type": "execute_result",
          "data": {
            "text/plain": [
              "count    8523.000000\n",
              "mean       15.168133\n",
              "std         8.371760\n",
              "min         4.000000\n",
              "25%         9.000000\n",
              "50%        14.000000\n",
              "75%        26.000000\n",
              "max        28.000000\n",
              "Name: Outlet_Years, dtype: float64"
            ]
          },
          "metadata": {
            "tags": []
          },
          "execution_count": 98
        }
      ]
    },
    {
      "metadata": {
        "id": "Ejf27XoXR7hD",
        "colab_type": "code",
        "colab": {
          "base_uri": "https://localhost:8080/",
          "height": 85
        },
        "outputId": "f3e0a21c-20c5-4d09-b99f-02cf99edf0c7"
      },
      "cell_type": "code",
      "source": [
        "#Mark non-consumables as separate category in low_fat:\n",
        "data.loc[data['CombineItemType']==\"NonConsumable\",'Item_Fat_Content'] = \"Non-Edible\"\n",
        "data['Item_Fat_Content'].value_counts()"
      ],
      "execution_count": 99,
      "outputs": [
        {
          "output_type": "execute_result",
          "data": {
            "text/plain": [
              "Low Fat       3918\n",
              "Regular       3006\n",
              "Non-Edible    1599\n",
              "Name: Item_Fat_Content, dtype: int64"
            ]
          },
          "metadata": {
            "tags": []
          },
          "execution_count": 99
        }
      ]
    },
    {
      "metadata": {
        "id": "7SYx3fZ0S9bs",
        "colab_type": "text"
      },
      "cell_type": "markdown",
      "source": [
        "Now we will do label encoding \n",
        "\n"
      ]
    },
    {
      "metadata": {
        "id": "roeRTwrYSRQ5",
        "colab_type": "code",
        "colab": {}
      },
      "cell_type": "code",
      "source": [
        "#Import library:\n",
        "from sklearn.preprocessing import LabelEncoder\n",
        "le = LabelEncoder()\n",
        "categorical_cols = ['Item_Fat_Content','Outlet_Location_Type','Outlet_Size','CombineItemType','Outlet_Type','Outlet_Identifier']\n",
        "for item in categorical_cols:\n",
        "  data[item] = le.fit_transform(data[item])"
      ],
      "execution_count": 0,
      "outputs": []
    },
    {
      "metadata": {
        "id": "QAut78y6cuFv",
        "colab_type": "code",
        "colab": {}
      },
      "cell_type": "code",
      "source": [
        "data = pd.get_dummies(data, columns=['Item_Fat_Content','Outlet_Location_Type','Outlet_Size','Outlet_Type',\n",
        "                              'CombineItemType',])"
      ],
      "execution_count": 0,
      "outputs": []
    },
    {
      "metadata": {
        "id": "xCNRuvVkc2n_",
        "colab_type": "code",
        "colab": {
          "base_uri": "https://localhost:8080/",
          "height": 527
        },
        "outputId": "94745292-7828-41dd-cae0-4cdf9e8d826c"
      },
      "cell_type": "code",
      "source": [
        "data.info()"
      ],
      "execution_count": 102,
      "outputs": [
        {
          "output_type": "stream",
          "text": [
            "<class 'pandas.core.frame.DataFrame'>\n",
            "RangeIndex: 8523 entries, 0 to 8522\n",
            "Data columns (total 25 columns):\n",
            "Item_Identifier              8523 non-null object\n",
            "Item_Weight                  8523 non-null float64\n",
            "Item_Visibility              8523 non-null float64\n",
            "Item_Type                    8523 non-null object\n",
            "Item_MRP                     8523 non-null float64\n",
            "Outlet_Identifier            8523 non-null int64\n",
            "Outlet_Establishment_Year    8523 non-null int64\n",
            "Item_Outlet_Sales            8523 non-null float64\n",
            "Outlet_Years                 8523 non-null int64\n",
            "Item_Fat_Content_0           8523 non-null uint8\n",
            "Item_Fat_Content_1           8523 non-null uint8\n",
            "Item_Fat_Content_2           8523 non-null uint8\n",
            "Outlet_Location_Type_0       8523 non-null uint8\n",
            "Outlet_Location_Type_1       8523 non-null uint8\n",
            "Outlet_Location_Type_2       8523 non-null uint8\n",
            "Outlet_Size_0                8523 non-null uint8\n",
            "Outlet_Size_1                8523 non-null uint8\n",
            "Outlet_Size_2                8523 non-null uint8\n",
            "Outlet_Type_0                8523 non-null uint8\n",
            "Outlet_Type_1                8523 non-null uint8\n",
            "Outlet_Type_2                8523 non-null uint8\n",
            "Outlet_Type_3                8523 non-null uint8\n",
            "CombineItemType_0            8523 non-null uint8\n",
            "CombineItemType_1            8523 non-null uint8\n",
            "CombineItemType_2            8523 non-null uint8\n",
            "dtypes: float64(4), int64(3), object(2), uint8(16)\n",
            "memory usage: 732.5+ KB\n"
          ],
          "name": "stdout"
        }
      ]
    },
    {
      "metadata": {
        "id": "lmNE93EfguGu",
        "colab_type": "text"
      },
      "cell_type": "markdown",
      "source": [
        "We are dropping those columns which seems of no use in our feature"
      ]
    },
    {
      "metadata": {
        "id": "ZfcA5q8bdEod",
        "colab_type": "code",
        "colab": {
          "base_uri": "https://localhost:8080/",
          "height": 224
        },
        "outputId": "3ac442cf-2673-4b0c-af8e-3f52c4d94863"
      },
      "cell_type": "code",
      "source": [
        "x=  data.drop(['Item_Identifier', 'Item_Type', 'Outlet_Establishment_Year', 'Item_Outlet_Sales','Outlet_Identifier'], axis=1)\n",
        "y = data['Item_Outlet_Sales']\n",
        "x.head()"
      ],
      "execution_count": 103,
      "outputs": [
        {
          "output_type": "execute_result",
          "data": {
            "text/html": [
              "<div>\n",
              "<style scoped>\n",
              "    .dataframe tbody tr th:only-of-type {\n",
              "        vertical-align: middle;\n",
              "    }\n",
              "\n",
              "    .dataframe tbody tr th {\n",
              "        vertical-align: top;\n",
              "    }\n",
              "\n",
              "    .dataframe thead th {\n",
              "        text-align: right;\n",
              "    }\n",
              "</style>\n",
              "<table border=\"1\" class=\"dataframe\">\n",
              "  <thead>\n",
              "    <tr style=\"text-align: right;\">\n",
              "      <th></th>\n",
              "      <th>Item_Weight</th>\n",
              "      <th>Item_Visibility</th>\n",
              "      <th>Item_MRP</th>\n",
              "      <th>Outlet_Years</th>\n",
              "      <th>Item_Fat_Content_0</th>\n",
              "      <th>Item_Fat_Content_1</th>\n",
              "      <th>Item_Fat_Content_2</th>\n",
              "      <th>Outlet_Location_Type_0</th>\n",
              "      <th>Outlet_Location_Type_1</th>\n",
              "      <th>Outlet_Location_Type_2</th>\n",
              "      <th>Outlet_Size_0</th>\n",
              "      <th>Outlet_Size_1</th>\n",
              "      <th>Outlet_Size_2</th>\n",
              "      <th>Outlet_Type_0</th>\n",
              "      <th>Outlet_Type_1</th>\n",
              "      <th>Outlet_Type_2</th>\n",
              "      <th>Outlet_Type_3</th>\n",
              "      <th>CombineItemType_0</th>\n",
              "      <th>CombineItemType_1</th>\n",
              "      <th>CombineItemType_2</th>\n",
              "    </tr>\n",
              "  </thead>\n",
              "  <tbody>\n",
              "    <tr>\n",
              "      <th>0</th>\n",
              "      <td>9.30</td>\n",
              "      <td>0.016047</td>\n",
              "      <td>249.8092</td>\n",
              "      <td>14</td>\n",
              "      <td>1</td>\n",
              "      <td>0</td>\n",
              "      <td>0</td>\n",
              "      <td>1</td>\n",
              "      <td>0</td>\n",
              "      <td>0</td>\n",
              "      <td>0</td>\n",
              "      <td>1</td>\n",
              "      <td>0</td>\n",
              "      <td>0</td>\n",
              "      <td>1</td>\n",
              "      <td>0</td>\n",
              "      <td>0</td>\n",
              "      <td>0</td>\n",
              "      <td>1</td>\n",
              "      <td>0</td>\n",
              "    </tr>\n",
              "    <tr>\n",
              "      <th>1</th>\n",
              "      <td>5.92</td>\n",
              "      <td>0.019278</td>\n",
              "      <td>48.2692</td>\n",
              "      <td>4</td>\n",
              "      <td>0</td>\n",
              "      <td>0</td>\n",
              "      <td>1</td>\n",
              "      <td>0</td>\n",
              "      <td>0</td>\n",
              "      <td>1</td>\n",
              "      <td>0</td>\n",
              "      <td>1</td>\n",
              "      <td>0</td>\n",
              "      <td>0</td>\n",
              "      <td>0</td>\n",
              "      <td>1</td>\n",
              "      <td>0</td>\n",
              "      <td>1</td>\n",
              "      <td>0</td>\n",
              "      <td>0</td>\n",
              "    </tr>\n",
              "    <tr>\n",
              "      <th>2</th>\n",
              "      <td>17.50</td>\n",
              "      <td>0.016760</td>\n",
              "      <td>141.6180</td>\n",
              "      <td>14</td>\n",
              "      <td>1</td>\n",
              "      <td>0</td>\n",
              "      <td>0</td>\n",
              "      <td>1</td>\n",
              "      <td>0</td>\n",
              "      <td>0</td>\n",
              "      <td>0</td>\n",
              "      <td>1</td>\n",
              "      <td>0</td>\n",
              "      <td>0</td>\n",
              "      <td>1</td>\n",
              "      <td>0</td>\n",
              "      <td>0</td>\n",
              "      <td>0</td>\n",
              "      <td>1</td>\n",
              "      <td>0</td>\n",
              "    </tr>\n",
              "    <tr>\n",
              "      <th>3</th>\n",
              "      <td>19.20</td>\n",
              "      <td>0.066132</td>\n",
              "      <td>182.0950</td>\n",
              "      <td>15</td>\n",
              "      <td>0</td>\n",
              "      <td>0</td>\n",
              "      <td>1</td>\n",
              "      <td>0</td>\n",
              "      <td>0</td>\n",
              "      <td>1</td>\n",
              "      <td>0</td>\n",
              "      <td>0</td>\n",
              "      <td>1</td>\n",
              "      <td>1</td>\n",
              "      <td>0</td>\n",
              "      <td>0</td>\n",
              "      <td>0</td>\n",
              "      <td>0</td>\n",
              "      <td>1</td>\n",
              "      <td>0</td>\n",
              "    </tr>\n",
              "    <tr>\n",
              "      <th>4</th>\n",
              "      <td>8.93</td>\n",
              "      <td>0.066132</td>\n",
              "      <td>53.8614</td>\n",
              "      <td>26</td>\n",
              "      <td>0</td>\n",
              "      <td>1</td>\n",
              "      <td>0</td>\n",
              "      <td>0</td>\n",
              "      <td>0</td>\n",
              "      <td>1</td>\n",
              "      <td>1</td>\n",
              "      <td>0</td>\n",
              "      <td>0</td>\n",
              "      <td>0</td>\n",
              "      <td>1</td>\n",
              "      <td>0</td>\n",
              "      <td>0</td>\n",
              "      <td>0</td>\n",
              "      <td>0</td>\n",
              "      <td>1</td>\n",
              "    </tr>\n",
              "  </tbody>\n",
              "</table>\n",
              "</div>"
            ],
            "text/plain": [
              "   Item_Weight  Item_Visibility  Item_MRP  Outlet_Years  Item_Fat_Content_0  \\\n",
              "0         9.30         0.016047  249.8092            14                   1   \n",
              "1         5.92         0.019278   48.2692             4                   0   \n",
              "2        17.50         0.016760  141.6180            14                   1   \n",
              "3        19.20         0.066132  182.0950            15                   0   \n",
              "4         8.93         0.066132   53.8614            26                   0   \n",
              "\n",
              "   Item_Fat_Content_1  Item_Fat_Content_2  Outlet_Location_Type_0  \\\n",
              "0                   0                   0                       1   \n",
              "1                   0                   1                       0   \n",
              "2                   0                   0                       1   \n",
              "3                   0                   1                       0   \n",
              "4                   1                   0                       0   \n",
              "\n",
              "   Outlet_Location_Type_1  Outlet_Location_Type_2  Outlet_Size_0  \\\n",
              "0                       0                       0              0   \n",
              "1                       0                       1              0   \n",
              "2                       0                       0              0   \n",
              "3                       0                       1              0   \n",
              "4                       0                       1              1   \n",
              "\n",
              "   Outlet_Size_1  Outlet_Size_2  Outlet_Type_0  Outlet_Type_1  Outlet_Type_2  \\\n",
              "0              1              0              0              1              0   \n",
              "1              1              0              0              0              1   \n",
              "2              1              0              0              1              0   \n",
              "3              0              1              1              0              0   \n",
              "4              0              0              0              1              0   \n",
              "\n",
              "   Outlet_Type_3  CombineItemType_0  CombineItemType_1  CombineItemType_2  \n",
              "0              0                  0                  1                  0  \n",
              "1              0                  1                  0                  0  \n",
              "2              0                  0                  1                  0  \n",
              "3              0                  0                  1                  0  \n",
              "4              0                  0                  0                  1  "
            ]
          },
          "metadata": {
            "tags": []
          },
          "execution_count": 103
        }
      ]
    },
    {
      "metadata": {
        "id": "eKscXgWPhxHf",
        "colab_type": "text"
      },
      "cell_type": "markdown",
      "source": [
        "We are finished with our feature part\n",
        "Now we will train and split our dataset"
      ]
    },
    {
      "metadata": {
        "id": "5i9_Jmuggi6N",
        "colab_type": "code",
        "colab": {}
      },
      "cell_type": "code",
      "source": [
        "from  sklearn.model_selection import train_test_split\n",
        "x_train, x_test, y_train, y_test = train_test_split(x, y, test_size=0.20, random_state=101)"
      ],
      "execution_count": 0,
      "outputs": []
    },
    {
      "metadata": {
        "id": "-k2Hc4Pehs3H",
        "colab_type": "text"
      },
      "cell_type": "markdown",
      "source": [
        "Now we will apply various model on our dataset and get the accuracyscore \n",
        "#Linear Regression"
      ]
    },
    {
      "metadata": {
        "id": "gX9FXueWhsV0",
        "colab_type": "code",
        "colab": {}
      },
      "cell_type": "code",
      "source": [
        "from sklearn.linear_model import LinearRegression"
      ],
      "execution_count": 0,
      "outputs": []
    },
    {
      "metadata": {
        "id": "WNUPjdYMhRjm",
        "colab_type": "code",
        "colab": {}
      },
      "cell_type": "code",
      "source": [
        "lr=LinearRegression()"
      ],
      "execution_count": 0,
      "outputs": []
    },
    {
      "metadata": {
        "id": "zuSH1qniqTQg",
        "colab_type": "code",
        "colab": {
          "base_uri": "https://localhost:8080/",
          "height": 34
        },
        "outputId": "68edee1e-aaf2-4b16-aab9-54750d79e035"
      },
      "cell_type": "code",
      "source": [
        "lr.fit(x_train, y_train)"
      ],
      "execution_count": 107,
      "outputs": [
        {
          "output_type": "execute_result",
          "data": {
            "text/plain": [
              "LinearRegression(copy_X=True, fit_intercept=True, n_jobs=1, normalize=False)"
            ]
          },
          "metadata": {
            "tags": []
          },
          "execution_count": 107
        }
      ]
    },
    {
      "metadata": {
        "id": "bRkZh6jntMuE",
        "colab_type": "code",
        "colab": {}
      },
      "cell_type": "code",
      "source": [
        "pred=lr.predict(x_test)"
      ],
      "execution_count": 0,
      "outputs": []
    },
    {
      "metadata": {
        "id": "vsrwj3YstRhs",
        "colab_type": "code",
        "colab": {
          "base_uri": "https://localhost:8080/",
          "height": 34
        },
        "outputId": "ed31847c-68d8-4a23-c6f5-96569cebfdcd"
      },
      "cell_type": "code",
      "source": [
        "lr.score(x_train, y_train)"
      ],
      "execution_count": 110,
      "outputs": [
        {
          "output_type": "execute_result",
          "data": {
            "text/plain": [
              "0.5638254646533651"
            ]
          },
          "metadata": {
            "tags": []
          },
          "execution_count": 110
        }
      ]
    },
    {
      "metadata": {
        "id": "532ItINIvxAV",
        "colab_type": "code",
        "colab": {
          "base_uri": "https://localhost:8080/",
          "height": 68
        },
        "outputId": "2ca62b03-0677-4678-a079-c6af4e12762f"
      },
      "cell_type": "code",
      "source": [
        "from  sklearn import metrics\n",
        "print('MeanAbsoluteError:',  metrics.mean_absolute_error(y_test, pred))\n",
        "print('MeanSquareError:', metrics.mean_squared_error(y_test, pred))\n",
        "print('RootMeanSquareError:', np.sqrt(metrics.mean_squared_error(y_test, pred)))"
      ],
      "execution_count": 111,
      "outputs": [
        {
          "output_type": "stream",
          "text": [
            "MeanAbsoluteError: 824.7327909209841\n",
            "MeanSquareError: 1206361.8622420523\n",
            "RootMeanSquareError: 1098.3450560921428\n"
          ],
          "name": "stdout"
        }
      ]
    },
    {
      "metadata": {
        "id": "-wBmSEpfxpHL",
        "colab_type": "text"
      },
      "cell_type": "markdown",
      "source": [
        "##Ensembel Method\n",
        "###Gradient Boosting Regressor"
      ]
    },
    {
      "metadata": {
        "id": "c0UeukWDxlaX",
        "colab_type": "code",
        "colab": {}
      },
      "cell_type": "code",
      "source": [
        "from sklearn.ensemble import GradientBoostingRegressor"
      ],
      "execution_count": 0,
      "outputs": []
    },
    {
      "metadata": {
        "id": "9RIvEIO2x7S0",
        "colab_type": "code",
        "colab": {}
      },
      "cell_type": "code",
      "source": [
        "gbr=GradientBoostingRegressor()"
      ],
      "execution_count": 0,
      "outputs": []
    },
    {
      "metadata": {
        "id": "JiEedG6-GhZC",
        "colab_type": "code",
        "colab": {
          "base_uri": "https://localhost:8080/",
          "height": 136
        },
        "outputId": "122676dc-227c-4026-f8b1-89cae49bdf06"
      },
      "cell_type": "code",
      "source": [
        "gbr.fit(x_train,y_train)"
      ],
      "execution_count": 114,
      "outputs": [
        {
          "output_type": "execute_result",
          "data": {
            "text/plain": [
              "GradientBoostingRegressor(alpha=0.9, criterion='friedman_mse', init=None,\n",
              "             learning_rate=0.1, loss='ls', max_depth=3, max_features=None,\n",
              "             max_leaf_nodes=None, min_impurity_decrease=0.0,\n",
              "             min_impurity_split=None, min_samples_leaf=1,\n",
              "             min_samples_split=2, min_weight_fraction_leaf=0.0,\n",
              "             n_estimators=100, presort='auto', random_state=None,\n",
              "             subsample=1.0, verbose=0, warm_start=False)"
            ]
          },
          "metadata": {
            "tags": []
          },
          "execution_count": 114
        }
      ]
    },
    {
      "metadata": {
        "id": "y-ljqcFSGj2S",
        "colab_type": "code",
        "colab": {
          "base_uri": "https://localhost:8080/",
          "height": 34
        },
        "outputId": "7256e883-d43c-4bc7-8966-2523502a3710"
      },
      "cell_type": "code",
      "source": [
        "gbr.score(x_test,y_test)"
      ],
      "execution_count": 115,
      "outputs": [
        {
          "output_type": "execute_result",
          "data": {
            "text/plain": [
              "0.5982098269515473"
            ]
          },
          "metadata": {
            "tags": []
          },
          "execution_count": 115
        }
      ]
    },
    {
      "metadata": {
        "id": "SrCaNFyVH3Ln",
        "colab_type": "code",
        "colab": {}
      },
      "cell_type": "code",
      "source": [
        "gpred=gbr.predict(x_test)"
      ],
      "execution_count": 0,
      "outputs": []
    },
    {
      "metadata": {
        "id": "Yn4a2aA4IFS8",
        "colab_type": "code",
        "colab": {
          "base_uri": "https://localhost:8080/",
          "height": 68
        },
        "outputId": "f6076cbb-d156-491c-c9fa-d3d31ad12f1d"
      },
      "cell_type": "code",
      "source": [
        "from  sklearn import metrics\n",
        "print('MeanAbsoluteError:',  metrics.mean_absolute_error(y_test, gpred))\n",
        "print('MeanSquareError:', metrics.mean_squared_error(y_test, gpred))\n",
        "print('RootMeanSquareError:', np.sqrt(metrics.mean_squared_error(y_test, gpred)))"
      ],
      "execution_count": 118,
      "outputs": [
        {
          "output_type": "stream",
          "text": [
            "MeanAbsoluteError: 742.5439459495905\n",
            "MeanSquareError: 1095024.7703824337\n",
            "RootMeanSquareError: 1046.4343125024302\n"
          ],
          "name": "stdout"
        }
      ]
    },
    {
      "metadata": {
        "id": "LGWSf0EJJvpL",
        "colab_type": "text"
      },
      "cell_type": "markdown",
      "source": [
        "##Use GridSearchCV to find the best parameter for GradientBoostingRegressor"
      ]
    },
    {
      "metadata": {
        "id": "2_6tftWDJuwa",
        "colab_type": "code",
        "colab": {
          "base_uri": "https://localhost:8080/",
          "height": 221
        },
        "outputId": "9fd95868-25b5-4e2f-c34f-b7e56d564621"
      },
      "cell_type": "code",
      "source": [
        "from sklearn.model_selection import GridSearchCV\n",
        "grid_para={'n_estimators':[10,50,100,500,1000]}\n",
        "gsc=GridSearchCV(GradientBoostingRegressor(),grid_para)\n",
        "gsc.fit(x_train,y_train)"
      ],
      "execution_count": 119,
      "outputs": [
        {
          "output_type": "execute_result",
          "data": {
            "text/plain": [
              "GridSearchCV(cv=None, error_score='raise',\n",
              "       estimator=GradientBoostingRegressor(alpha=0.9, criterion='friedman_mse', init=None,\n",
              "             learning_rate=0.1, loss='ls', max_depth=3, max_features=None,\n",
              "             max_leaf_nodes=None, min_impurity_decrease=0.0,\n",
              "             min_impurity_split=None, min_samples_leaf=1,\n",
              "             min_samples_split=2, min_weight_fraction_leaf=0.0,\n",
              "             n_estimators=100, presort='auto', random_state=None,\n",
              "             subsample=1.0, verbose=0, warm_start=False),\n",
              "       fit_params=None, iid=True, n_jobs=1,\n",
              "       param_grid={'n_estimators': [10, 50, 100, 500, 1000]},\n",
              "       pre_dispatch='2*n_jobs', refit=True, return_train_score='warn',\n",
              "       scoring=None, verbose=0)"
            ]
          },
          "metadata": {
            "tags": []
          },
          "execution_count": 119
        }
      ]
    },
    {
      "metadata": {
        "id": "5IEMuN3vNcDj",
        "colab_type": "code",
        "colab": {
          "base_uri": "https://localhost:8080/",
          "height": 34
        },
        "outputId": "4f77e497-b4f4-4966-8767-7346fa522190"
      },
      "cell_type": "code",
      "source": [
        "gsc.best_params_"
      ],
      "execution_count": 121,
      "outputs": [
        {
          "output_type": "execute_result",
          "data": {
            "text/plain": [
              "{'n_estimators': 50}"
            ]
          },
          "metadata": {
            "tags": []
          },
          "execution_count": 121
        }
      ]
    },
    {
      "metadata": {
        "id": "2HVAhHdQNrN2",
        "colab_type": "code",
        "colab": {
          "base_uri": "https://localhost:8080/",
          "height": 136
        },
        "outputId": "8bbed24f-f9de-4c54-9034-6356f1ecfda5"
      },
      "cell_type": "code",
      "source": [
        "gbr_grid=GradientBoostingRegressor( n_estimators=50)\n",
        "gbr_grid.fit(x_train,y_train)"
      ],
      "execution_count": 122,
      "outputs": [
        {
          "output_type": "execute_result",
          "data": {
            "text/plain": [
              "GradientBoostingRegressor(alpha=0.9, criterion='friedman_mse', init=None,\n",
              "             learning_rate=0.1, loss='ls', max_depth=3, max_features=None,\n",
              "             max_leaf_nodes=None, min_impurity_decrease=0.0,\n",
              "             min_impurity_split=None, min_samples_leaf=1,\n",
              "             min_samples_split=2, min_weight_fraction_leaf=0.0,\n",
              "             n_estimators=50, presort='auto', random_state=None,\n",
              "             subsample=1.0, verbose=0, warm_start=False)"
            ]
          },
          "metadata": {
            "tags": []
          },
          "execution_count": 122
        }
      ]
    },
    {
      "metadata": {
        "id": "RtmyojsZOlyv",
        "colab_type": "code",
        "colab": {
          "base_uri": "https://localhost:8080/",
          "height": 34
        },
        "outputId": "776ecf5d-090d-4821-97f9-6d7ae7a7317c"
      },
      "cell_type": "code",
      "source": [
        "gbr_grid.score(x_test,y_test)"
      ],
      "execution_count": 123,
      "outputs": [
        {
          "output_type": "execute_result",
          "data": {
            "text/plain": [
              "0.6018794788208011"
            ]
          },
          "metadata": {
            "tags": []
          },
          "execution_count": 123
        }
      ]
    },
    {
      "metadata": {
        "id": "acBWOnloPOa3",
        "colab_type": "text"
      },
      "cell_type": "markdown",
      "source": [
        "#DecisionTreeRegressor"
      ]
    },
    {
      "metadata": {
        "id": "W5EfAa4_PlKU",
        "colab_type": "code",
        "colab": {}
      },
      "cell_type": "code",
      "source": [
        "from sklearn.tree import DecisionTreeRegressor\n",
        "DTR= DecisionTreeRegressor()"
      ],
      "execution_count": 0,
      "outputs": []
    },
    {
      "metadata": {
        "id": "NaMGl15KPpCu",
        "colab_type": "code",
        "colab": {
          "base_uri": "https://localhost:8080/",
          "height": 102
        },
        "outputId": "de916245-f70d-4671-b75b-96c59ebfda82"
      },
      "cell_type": "code",
      "source": [
        "DTR.fit(x_train,y_train)"
      ],
      "execution_count": 125,
      "outputs": [
        {
          "output_type": "execute_result",
          "data": {
            "text/plain": [
              "DecisionTreeRegressor(criterion='mse', max_depth=None, max_features=None,\n",
              "           max_leaf_nodes=None, min_impurity_decrease=0.0,\n",
              "           min_impurity_split=None, min_samples_leaf=1,\n",
              "           min_samples_split=2, min_weight_fraction_leaf=0.0,\n",
              "           presort=False, random_state=None, splitter='best')"
            ]
          },
          "metadata": {
            "tags": []
          },
          "execution_count": 125
        }
      ]
    },
    {
      "metadata": {
        "id": "kYQxFAEjPw1g",
        "colab_type": "text"
      },
      "cell_type": "markdown",
      "source": [
        "###FINDING Accuracy score"
      ]
    },
    {
      "metadata": {
        "id": "baVIlNGBPt_A",
        "colab_type": "code",
        "colab": {
          "base_uri": "https://localhost:8080/",
          "height": 34
        },
        "outputId": "7647a6b2-15db-466e-91b7-48376c0af8dc"
      },
      "cell_type": "code",
      "source": [
        "DTR.score(x_test,y_test)"
      ],
      "execution_count": 126,
      "outputs": [
        {
          "output_type": "execute_result",
          "data": {
            "text/plain": [
              "0.14114352905524297"
            ]
          },
          "metadata": {
            "tags": []
          },
          "execution_count": 126
        }
      ]
    },
    {
      "metadata": {
        "id": "7CMA5kNbQEoR",
        "colab_type": "text"
      },
      "cell_type": "markdown",
      "source": [
        "very low accuracy score so we will not this algorithm here"
      ]
    },
    {
      "metadata": {
        "id": "s9Qf-KJ6QPUm",
        "colab_type": "code",
        "colab": {}
      },
      "cell_type": "code",
      "source": [
        "dpred=DTR.predict(x_test)"
      ],
      "execution_count": 0,
      "outputs": []
    },
    {
      "metadata": {
        "id": "Z9j2qtuAQQgO",
        "colab_type": "code",
        "colab": {
          "base_uri": "https://localhost:8080/",
          "height": 68
        },
        "outputId": "986a04e8-1484-4684-8808-70a82b891738"
      },
      "cell_type": "code",
      "source": [
        "from  sklearn import metrics\n",
        "print('MeanAbsoluteError:',  metrics.mean_absolute_error(y_test, dpred))\n",
        "print('MeanSquareError:', metrics.mean_squared_error(y_test, dpred))\n",
        "print('RootMeanSquareError:', np.sqrt(metrics.mean_squared_error(y_test, dpred)))"
      ],
      "execution_count": 128,
      "outputs": [
        {
          "output_type": "stream",
          "text": [
            "MeanAbsoluteError: 1075.4454578299121\n",
            "MeanSquareError: 2340697.1423722124\n",
            "RootMeanSquareError: 1529.933705221312\n"
          ],
          "name": "stdout"
        }
      ]
    },
    {
      "metadata": {
        "id": "BuI347i7Qpjx",
        "colab_type": "text"
      },
      "cell_type": "markdown",
      "source": [
        "#RandomForestRegressor"
      ]
    },
    {
      "metadata": {
        "id": "52GhJ8RjQ0cE",
        "colab_type": "code",
        "colab": {
          "base_uri": "https://localhost:8080/",
          "height": 119
        },
        "outputId": "f39aee05-95dc-417d-aa27-2e7274d17224"
      },
      "cell_type": "code",
      "source": [
        "from sklearn.ensemble import RandomForestRegressor\n",
        "rfr = RandomForestRegressor()\n",
        "rfr.fit(x_train, y_train)"
      ],
      "execution_count": 129,
      "outputs": [
        {
          "output_type": "execute_result",
          "data": {
            "text/plain": [
              "RandomForestRegressor(bootstrap=True, criterion='mse', max_depth=None,\n",
              "           max_features='auto', max_leaf_nodes=None,\n",
              "           min_impurity_decrease=0.0, min_impurity_split=None,\n",
              "           min_samples_leaf=1, min_samples_split=2,\n",
              "           min_weight_fraction_leaf=0.0, n_estimators=10, n_jobs=1,\n",
              "           oob_score=False, random_state=None, verbose=0, warm_start=False)"
            ]
          },
          "metadata": {
            "tags": []
          },
          "execution_count": 129
        }
      ]
    },
    {
      "metadata": {
        "id": "bnQuyaGWRAtX",
        "colab_type": "code",
        "colab": {
          "base_uri": "https://localhost:8080/",
          "height": 34
        },
        "outputId": "0e00be09-cb0c-44f9-b223-41ea53060024"
      },
      "cell_type": "code",
      "source": [
        "rfr.score(x_test,y_test)"
      ],
      "execution_count": 130,
      "outputs": [
        {
          "output_type": "execute_result",
          "data": {
            "text/plain": [
              "0.47891160260594334"
            ]
          },
          "metadata": {
            "tags": []
          },
          "execution_count": 130
        }
      ]
    },
    {
      "metadata": {
        "id": "yrGPVSQzRDKC",
        "colab_type": "code",
        "colab": {}
      },
      "cell_type": "code",
      "source": [
        "rpred=rfr.predict(x_test)"
      ],
      "execution_count": 0,
      "outputs": []
    },
    {
      "metadata": {
        "id": "fQIodbIxSI5g",
        "colab_type": "code",
        "colab": {
          "base_uri": "https://localhost:8080/",
          "height": 68
        },
        "outputId": "7e94b5a4-bf47-4c36-a6b3-16b10515e5a1"
      },
      "cell_type": "code",
      "source": [
        "from sklearn import metrics\n",
        "print('MeanAbsoluteError:',  metrics.mean_absolute_error(y_test, rpred))\n",
        "print('MeanSquareError:', metrics.mean_squared_error(y_test, rpred))\n",
        "print('RootMeanSquareError:', np.sqrt(metrics.mean_squared_error(y_test, rpred)))"
      ],
      "execution_count": 132,
      "outputs": [
        {
          "output_type": "stream",
          "text": [
            "MeanAbsoluteError: 828.286322733138\n",
            "MeanSquareError: 1420155.9445222344\n",
            "RootMeanSquareError: 1191.70295985293\n"
          ],
          "name": "stdout"
        }
      ]
    },
    {
      "metadata": {
        "id": "LMpfjQ6YVtLT",
        "colab_type": "text"
      },
      "cell_type": "markdown",
      "source": [
        "##Use GridSearchCV to find the best parameter for RandomforestRegressor"
      ]
    },
    {
      "metadata": {
        "id": "LOO2PknjSJjx",
        "colab_type": "code",
        "colab": {
          "base_uri": "https://localhost:8080/",
          "height": 204
        },
        "outputId": "29089b68-67da-4668-9820-3116fc6994aa"
      },
      "cell_type": "code",
      "source": [
        "from sklearn.model_selection import GridSearchCV\n",
        "grid_para={'n_estimators':[50,100,150,200,500],'max_depth':[2,4,5,6,7,8]}\n",
        "gsb=GridSearchCV(RandomForestRegressor(),grid_para)\n",
        "gsb.fit(x_train,y_train)"
      ],
      "execution_count": 138,
      "outputs": [
        {
          "output_type": "execute_result",
          "data": {
            "text/plain": [
              "GridSearchCV(cv=None, error_score='raise',\n",
              "       estimator=RandomForestRegressor(bootstrap=True, criterion='mse', max_depth=None,\n",
              "           max_features='auto', max_leaf_nodes=None,\n",
              "           min_impurity_decrease=0.0, min_impurity_split=None,\n",
              "           min_samples_leaf=1, min_samples_split=2,\n",
              "           min_weight_fraction_leaf=0.0, n_estimators=10, n_jobs=1,\n",
              "           oob_score=False, random_state=None, verbose=0, warm_start=False),\n",
              "       fit_params=None, iid=True, n_jobs=1,\n",
              "       param_grid={'n_estimators': [50, 100, 150, 200, 500], 'max_depth': [2, 4, 5, 6, 7, 8]},\n",
              "       pre_dispatch='2*n_jobs', refit=True, return_train_score='warn',\n",
              "       scoring=None, verbose=0)"
            ]
          },
          "metadata": {
            "tags": []
          },
          "execution_count": 138
        }
      ]
    },
    {
      "metadata": {
        "id": "38KYp9EAWc6Z",
        "colab_type": "code",
        "colab": {
          "base_uri": "https://localhost:8080/",
          "height": 34
        },
        "outputId": "af99c280-6635-4e1b-942c-c3bd0edcb261"
      },
      "cell_type": "code",
      "source": [
        "gsb.best_params_"
      ],
      "execution_count": 139,
      "outputs": [
        {
          "output_type": "execute_result",
          "data": {
            "text/plain": [
              "{'max_depth': 5, 'n_estimators': 50}"
            ]
          },
          "metadata": {
            "tags": []
          },
          "execution_count": 139
        }
      ]
    },
    {
      "metadata": {
        "id": "R2K6gpM5Wgvn",
        "colab_type": "code",
        "colab": {}
      },
      "cell_type": "code",
      "source": [
        "grid_rbr=RandomForestRegressor(max_depth= 5, n_estimators= 200)"
      ],
      "execution_count": 0,
      "outputs": []
    },
    {
      "metadata": {
        "id": "9DeJAPdLYJSQ",
        "colab_type": "code",
        "colab": {
          "base_uri": "https://localhost:8080/",
          "height": 119
        },
        "outputId": "a920f8e9-ed4d-49e5-d811-a926bed58518"
      },
      "cell_type": "code",
      "source": [
        "grid_rbr.fit(x_train,y_train)"
      ],
      "execution_count": 144,
      "outputs": [
        {
          "output_type": "execute_result",
          "data": {
            "text/plain": [
              "RandomForestRegressor(bootstrap=True, criterion='mse', max_depth=5,\n",
              "           max_features='auto', max_leaf_nodes=None,\n",
              "           min_impurity_decrease=0.0, min_impurity_split=None,\n",
              "           min_samples_leaf=1, min_samples_split=2,\n",
              "           min_weight_fraction_leaf=0.0, n_estimators=200, n_jobs=1,\n",
              "           oob_score=False, random_state=None, verbose=0, warm_start=False)"
            ]
          },
          "metadata": {
            "tags": []
          },
          "execution_count": 144
        }
      ]
    },
    {
      "metadata": {
        "id": "DUPm7ZTEYL1r",
        "colab_type": "code",
        "colab": {
          "base_uri": "https://localhost:8080/",
          "height": 34
        },
        "outputId": "ed372a42-11ff-4205-c384-d673c61655af"
      },
      "cell_type": "code",
      "source": [
        "grid_rbr.score(x_test,y_test)"
      ],
      "execution_count": 145,
      "outputs": [
        {
          "output_type": "execute_result",
          "data": {
            "text/plain": [
              "0.5989059246676622"
            ]
          },
          "metadata": {
            "tags": []
          },
          "execution_count": 145
        }
      ]
    },
    {
      "metadata": {
        "id": "EMRiUdz_YV1H",
        "colab_type": "text"
      },
      "cell_type": "markdown",
      "source": [
        "#Conclusion\n",
        "We have imported data and performed cleaning and then we have made an EDA on the data and then we have done FEATURE ENGINEERING.\n",
        "\n",
        "Then we have train and split the data and perform various Algorithm (i.e:- Random forest, Gradient boosing , Linear Regression and Gradient tree Regressor) and calculated the Accuracy score and come to the conclusion that Gradient Boosting REgressor have the best result that is near to 60% which is also not quite good"
      ]
    },
    {
      "metadata": {
        "id": "-pmNtRNQZmTR",
        "colab_type": "code",
        "colab": {}
      },
      "cell_type": "code",
      "source": [
        ""
      ],
      "execution_count": 0,
      "outputs": []
    }
  ]
}